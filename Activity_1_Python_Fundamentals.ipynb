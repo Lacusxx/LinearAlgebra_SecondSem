{
  "nbformat": 4,
  "nbformat_minor": 0,
  "metadata": {
    "colab": {
      "name": "Activity 1 - Python Fundamentals",
      "provenance": [],
      "collapsed_sections": [],
      "authorship_tag": "ABX9TyPyjHebgvpzmzXPcSnE/NNF",
      "include_colab_link": true
    },
    "kernelspec": {
      "name": "python3",
      "display_name": "Python 3"
    },
    "language_info": {
      "name": "python"
    }
  },
  "cells": [
    {
      "cell_type": "markdown",
      "metadata": {
        "id": "view-in-github",
        "colab_type": "text"
      },
      "source": [
        "<a href=\"https://colab.research.google.com/github/Lacusxx/LinearAlgebra_SecondSem/blob/main/Activity_1_Python_Fundamentals.ipynb\" target=\"_parent\"><img src=\"https://colab.research.google.com/assets/colab-badge.svg\" alt=\"Open In Colab\"/></a>"
      ]
    },
    {
      "cell_type": "markdown",
      "source": [
        "# Welcome to Python Fundamentals\n",
        "In this module, we are going to establish or review our skills in Python programming. In this notebook we are going to cover:\n",
        "* Variables and Data Types \n",
        "* Operations\n",
        "* Input and Output Operations\n",
        "* Logic Control\n",
        "* Iterables\n",
        "* Functions\n"
      ],
      "metadata": {
        "id": "RBNymXkWtGoo"
      }
    },
    {
      "cell_type": "markdown",
      "source": [
        "## Variable and Data Types"
      ],
      "metadata": {
        "id": "2IaKEQXvtQWa"
      }
    },
    {
      "cell_type": "markdown",
      "source": [
        "Variables and data types are the values that change in Python, as the name implies. A variable is a data record where you store a value in a programming language. According to the criteria, the value saved may change in the future. In Python, a variable is formed when a value is assigned to it. Furthermore declaring a variable in Python does not require any further commands. [1]"
      ],
      "metadata": {
        "id": "TcR_-B0PE85s"
      }
    },
    {
      "cell_type": "code",
      "source": [
        "x = 1\n",
        "c , j = 2 , 25"
      ],
      "metadata": {
        "id": "YEUEvlsetYmF"
      },
      "execution_count": null,
      "outputs": []
    },
    {
      "cell_type": "code",
      "source": [
        "type(j)"
      ],
      "metadata": {
        "id": "8QV_8sSBvFGy",
        "colab": {
          "base_uri": "https://localhost:8080/"
        },
        "outputId": "5d3bd4f5-a572-41f3-dbc4-3c5b928e0620"
      },
      "execution_count": null,
      "outputs": [
        {
          "output_type": "execute_result",
          "data": {
            "text/plain": [
              "int"
            ]
          },
          "metadata": {},
          "execution_count": 8
        }
      ]
    },
    {
      "cell_type": "code",
      "source": [
        "y = 1.0\n",
        "type(y)"
      ],
      "metadata": {
        "id": "5fmTjDiTvaqO",
        "colab": {
          "base_uri": "https://localhost:8080/"
        },
        "outputId": "d243ee1c-5495-4170-9eb8-c034283df4c3"
      },
      "execution_count": null,
      "outputs": [
        {
          "output_type": "execute_result",
          "data": {
            "text/plain": [
              "float"
            ]
          },
          "metadata": {},
          "execution_count": 9
        }
      ]
    },
    {
      "cell_type": "code",
      "source": [
        "x = float(x)\n",
        "type(x)"
      ],
      "metadata": {
        "id": "ANwCCRmUv8h9",
        "colab": {
          "base_uri": "https://localhost:8080/"
        },
        "outputId": "8ff2c0d6-78d0-4fad-80ec-33195068259e"
      },
      "execution_count": null,
      "outputs": [
        {
          "output_type": "execute_result",
          "data": {
            "text/plain": [
              "float"
            ]
          },
          "metadata": {},
          "execution_count": 10
        }
      ]
    },
    {
      "cell_type": "code",
      "source": [
        "s,t,u = \"0\",\"1\",\"one\"\n",
        "type(s)"
      ],
      "metadata": {
        "id": "VLgAlSzhwqOj",
        "colab": {
          "base_uri": "https://localhost:8080/"
        },
        "outputId": "42d57103-b99b-40bf-d842-9bab98ab11e3"
      },
      "execution_count": null,
      "outputs": [
        {
          "output_type": "execute_result",
          "data": {
            "text/plain": [
              "str"
            ]
          },
          "metadata": {},
          "execution_count": 11
        }
      ]
    },
    {
      "cell_type": "code",
      "source": [
        "s_int = int(s)\n",
        "s_int"
      ],
      "metadata": {
        "id": "N48gbpMQ1eyv",
        "colab": {
          "base_uri": "https://localhost:8080/"
        },
        "outputId": "a75e43a8-69f4-4fa6-ffea-09ff2a320143"
      },
      "execution_count": null,
      "outputs": [
        {
          "output_type": "execute_result",
          "data": {
            "text/plain": [
              "0"
            ]
          },
          "metadata": {},
          "execution_count": 12
        }
      ]
    },
    {
      "cell_type": "markdown",
      "source": [
        "## Operations"
      ],
      "metadata": {
        "id": "b0-xZ3RjyCGG"
      }
    },
    {
      "cell_type": "markdown",
      "source": [
        "Operations in Phyton are mostly indicated by operators. Operators are special symbols in Python that indicate that a computation should be done. In simple manner, an operator manages the operands.[2]"
      ],
      "metadata": {
        "id": "nYA1qlCLILEP"
      }
    },
    {
      "cell_type": "markdown",
      "source": [
        "### Arithmetic"
      ],
      "metadata": {
        "id": "yeRGwRyZyKkZ"
      }
    },
    {
      "cell_type": "markdown",
      "source": [
        "As the name implies, arithmetic operators are used to accomplish mathematical operations such as addition, subtraction, multiplication, division, exponentiation, and modulus."
      ],
      "metadata": {
        "id": "KAta0BdqIaRz"
      }
    },
    {
      "cell_type": "code",
      "source": [
        "a,b,c,d = 2.0, -0.5, 0, -32"
      ],
      "metadata": {
        "id": "uNHqx6CgyNgW"
      },
      "execution_count": null,
      "outputs": []
    },
    {
      "cell_type": "code",
      "source": [
        "### Addition\n",
        "S = a+b\n",
        "S"
      ],
      "metadata": {
        "id": "DkTioGiEyVOb",
        "colab": {
          "base_uri": "https://localhost:8080/"
        },
        "outputId": "ac2d174d-8a68-474d-cf56-8242f4054ffd"
      },
      "execution_count": null,
      "outputs": [
        {
          "output_type": "execute_result",
          "data": {
            "text/plain": [
              "1.5"
            ]
          },
          "metadata": {},
          "execution_count": 15
        }
      ]
    },
    {
      "cell_type": "code",
      "source": [
        "### Subtraction\n",
        "D = b-d\n",
        "D"
      ],
      "metadata": {
        "id": "ZFSlHeDnysJ7",
        "colab": {
          "base_uri": "https://localhost:8080/"
        },
        "outputId": "23ae5559-cbb4-4881-a555-197a0c2fc4d5"
      },
      "execution_count": null,
      "outputs": [
        {
          "output_type": "execute_result",
          "data": {
            "text/plain": [
              "31.5"
            ]
          },
          "metadata": {},
          "execution_count": 16
        }
      ]
    },
    {
      "cell_type": "code",
      "source": [
        "### Multiplication\n",
        "P = a*d\n",
        "P"
      ],
      "metadata": {
        "id": "XZZRe4Akzds_",
        "colab": {
          "base_uri": "https://localhost:8080/"
        },
        "outputId": "cdf0bc20-5e9d-49de-fdd1-95cfc81d02b3"
      },
      "execution_count": null,
      "outputs": [
        {
          "output_type": "execute_result",
          "data": {
            "text/plain": [
              "-64.0"
            ]
          },
          "metadata": {},
          "execution_count": 17
        }
      ]
    },
    {
      "cell_type": "code",
      "source": [
        "### Division\n",
        "Q = d/a\n",
        "Q"
      ],
      "metadata": {
        "id": "rB3q-p33zoYk",
        "colab": {
          "base_uri": "https://localhost:8080/"
        },
        "outputId": "964b8380-90d8-4454-b651-6bea7eff1526"
      },
      "execution_count": null,
      "outputs": [
        {
          "output_type": "execute_result",
          "data": {
            "text/plain": [
              "-16.0"
            ]
          },
          "metadata": {},
          "execution_count": 18
        }
      ]
    },
    {
      "cell_type": "code",
      "source": [
        "### Floor Division\n",
        "Fq = a//b\n",
        "Fq"
      ],
      "metadata": {
        "id": "fcqm7pzPzzD-",
        "colab": {
          "base_uri": "https://localhost:8080/"
        },
        "outputId": "da747398-e027-4f2e-9536-251ab386c839"
      },
      "execution_count": null,
      "outputs": [
        {
          "output_type": "execute_result",
          "data": {
            "text/plain": [
              "-4.0"
            ]
          },
          "metadata": {},
          "execution_count": 19
        }
      ]
    },
    {
      "cell_type": "code",
      "source": [
        "### Exponentiation\n",
        "E = d**a\n",
        "E"
      ],
      "metadata": {
        "id": "5ZU42-G30wZo",
        "colab": {
          "base_uri": "https://localhost:8080/"
        },
        "outputId": "871a94a4-48da-4bcd-ae8c-b187de801ec1"
      },
      "execution_count": null,
      "outputs": [
        {
          "output_type": "execute_result",
          "data": {
            "text/plain": [
              "1024.0"
            ]
          },
          "metadata": {},
          "execution_count": 20
        }
      ]
    },
    {
      "cell_type": "code",
      "source": [
        "### Modulo\n",
        "mod = d%b\n",
        "mod"
      ],
      "metadata": {
        "id": "pg9-_hLR0-tk",
        "colab": {
          "base_uri": "https://localhost:8080/"
        },
        "outputId": "67da2c87-670e-4b6c-eaaf-3175ca38dfc4"
      },
      "execution_count": null,
      "outputs": [
        {
          "output_type": "execute_result",
          "data": {
            "text/plain": [
              "-0.0"
            ]
          },
          "metadata": {},
          "execution_count": 21
        }
      ]
    },
    {
      "cell_type": "markdown",
      "source": [
        "### Assignment Operations"
      ],
      "metadata": {
        "id": "4Be5ndwY1hdy"
      }
    },
    {
      "cell_type": "markdown",
      "source": [
        "Assignment operators are used to assigning value to a variable. The left side operand of the assignment operator is a variable and right-side operand of the assignment operator is a value."
      ],
      "metadata": {
        "id": "M7uJ2NqvJlBr"
      }
    },
    {
      "cell_type": "code",
      "source": [
        "G, H, J, K = 0, 100, 2, 3"
      ],
      "metadata": {
        "id": "DhSC9p0J1mZJ"
      },
      "execution_count": null,
      "outputs": []
    },
    {
      "cell_type": "code",
      "source": [
        "G += a\n",
        "G"
      ],
      "metadata": {
        "id": "MwYzZZ6e1x1T",
        "colab": {
          "base_uri": "https://localhost:8080/"
        },
        "outputId": "10b76941-e5dc-4733-95f2-0f54130182dc"
      },
      "execution_count": null,
      "outputs": [
        {
          "output_type": "execute_result",
          "data": {
            "text/plain": [
              "2.0"
            ]
          },
          "metadata": {},
          "execution_count": 23
        }
      ]
    },
    {
      "cell_type": "code",
      "source": [
        "H -= a\n",
        "H"
      ],
      "metadata": {
        "id": "P2-uqNgW2CIJ",
        "colab": {
          "base_uri": "https://localhost:8080/"
        },
        "outputId": "33c6c63f-173c-457c-9305-62711beed94e"
      },
      "execution_count": null,
      "outputs": [
        {
          "output_type": "execute_result",
          "data": {
            "text/plain": [
              "98.0"
            ]
          },
          "metadata": {},
          "execution_count": 24
        }
      ]
    },
    {
      "cell_type": "code",
      "source": [
        "J *= a\n",
        "J"
      ],
      "metadata": {
        "id": "cAEgrVgD2NCf",
        "colab": {
          "base_uri": "https://localhost:8080/"
        },
        "outputId": "cedf6ca6-7358-442a-d7a0-cc1f2b9e7f12"
      },
      "execution_count": null,
      "outputs": [
        {
          "output_type": "execute_result",
          "data": {
            "text/plain": [
              "4.0"
            ]
          },
          "metadata": {},
          "execution_count": 25
        }
      ]
    },
    {
      "cell_type": "code",
      "source": [
        "K **= a\n",
        "K"
      ],
      "metadata": {
        "id": "XjofAAO02UJb",
        "colab": {
          "base_uri": "https://localhost:8080/"
        },
        "outputId": "5cef6e57-64ee-4e7d-af95-831fff9b7b25"
      },
      "execution_count": null,
      "outputs": [
        {
          "output_type": "execute_result",
          "data": {
            "text/plain": [
              "9.0"
            ]
          },
          "metadata": {},
          "execution_count": 26
        }
      ]
    },
    {
      "cell_type": "markdown",
      "source": [
        "## Comparators"
      ],
      "metadata": {
        "id": "PGH0ni0m3eeX"
      }
    },
    {
      "cell_type": "markdown",
      "source": [
        "Comparators in Python are typically used to compare two values. It usually returns True or False boolean values. It's most usually associated with numerical values, but it can also be applied to other sorts of data. [3]"
      ],
      "metadata": {
        "id": "97_YD-62LbwO"
      }
    },
    {
      "cell_type": "code",
      "source": [
        "res_1, res_2, res_3 = 1, 2.0, \"1\"\n",
        "true_val = 1.0"
      ],
      "metadata": {
        "id": "mpSONViq3h0J"
      },
      "execution_count": null,
      "outputs": []
    },
    {
      "cell_type": "code",
      "source": [
        "## Equality\n",
        "res_1 == true_val"
      ],
      "metadata": {
        "id": "HTHKK3Lu3tNy",
        "colab": {
          "base_uri": "https://localhost:8080/"
        },
        "outputId": "d6546e66-6491-4ad2-dc88-c9d02f1fec30"
      },
      "execution_count": null,
      "outputs": [
        {
          "output_type": "execute_result",
          "data": {
            "text/plain": [
              "True"
            ]
          },
          "metadata": {},
          "execution_count": 28
        }
      ]
    },
    {
      "cell_type": "code",
      "source": [
        "## Non-equality\n",
        "res_2 != true_val"
      ],
      "metadata": {
        "id": "AAh5ynX_3310",
        "colab": {
          "base_uri": "https://localhost:8080/"
        },
        "outputId": "fdfe0a68-b0a7-486b-f3e7-cb2a1a05f494"
      },
      "execution_count": null,
      "outputs": [
        {
          "output_type": "execute_result",
          "data": {
            "text/plain": [
              "True"
            ]
          },
          "metadata": {},
          "execution_count": 29
        }
      ]
    },
    {
      "cell_type": "code",
      "source": [
        "## Inequality\n",
        "t1 = res_1 > res_2\n",
        "t2 = res_1 < res_2/2\n",
        "t3 = res_1 >= res_2/2\n",
        "t4 = res_1 <= res_2/2\n",
        "t4"
      ],
      "metadata": {
        "id": "ZtCUrYXg4Aeu",
        "colab": {
          "base_uri": "https://localhost:8080/"
        },
        "outputId": "a967dc7d-4c0e-4f66-c23a-0bd6ceb4304e"
      },
      "execution_count": null,
      "outputs": [
        {
          "output_type": "execute_result",
          "data": {
            "text/plain": [
              "True"
            ]
          },
          "metadata": {},
          "execution_count": 30
        }
      ]
    },
    {
      "cell_type": "markdown",
      "source": [
        "### Logical\n"
      ],
      "metadata": {
        "id": "sM7377L35a11"
      }
    },
    {
      "cell_type": "markdown",
      "source": [
        "In Python, logical operators are used to execute logical operations on variable values. Either true or false is the value. The truth values can be used to determine the conditions. In Python, there are three basic types of logical operators: logical AND, logical OR, and logical NOT. Keywords or special characters are used to represent operators. [4]"
      ],
      "metadata": {
        "id": "dp3qEn7ULi45"
      }
    },
    {
      "cell_type": "code",
      "source": [
        "res_1 == true_val"
      ],
      "metadata": {
        "id": "AmzNaKO75cc5",
        "colab": {
          "base_uri": "https://localhost:8080/"
        },
        "outputId": "be3f124d-6ac1-4a84-806e-a1b6a76feb24"
      },
      "execution_count": null,
      "outputs": [
        {
          "output_type": "execute_result",
          "data": {
            "text/plain": [
              "True"
            ]
          },
          "metadata": {},
          "execution_count": 31
        }
      ]
    },
    {
      "cell_type": "code",
      "source": [
        "res_1 is true_val"
      ],
      "metadata": {
        "id": "lXrWVipA6rDR",
        "colab": {
          "base_uri": "https://localhost:8080/"
        },
        "outputId": "fcfab4e5-de78-4836-b41c-66c38ae87f7b"
      },
      "execution_count": null,
      "outputs": [
        {
          "output_type": "execute_result",
          "data": {
            "text/plain": [
              "False"
            ]
          },
          "metadata": {},
          "execution_count": 32
        }
      ]
    },
    {
      "cell_type": "code",
      "source": [
        "res_1 is not true_val"
      ],
      "metadata": {
        "id": "SfY1n6Nt5lRR",
        "colab": {
          "base_uri": "https://localhost:8080/"
        },
        "outputId": "c38919de-63c8-4383-824c-ac034f9f4af9"
      },
      "execution_count": null,
      "outputs": [
        {
          "output_type": "execute_result",
          "data": {
            "text/plain": [
              "True"
            ]
          },
          "metadata": {},
          "execution_count": 33
        }
      ]
    },
    {
      "cell_type": "code",
      "source": [
        "p,q = True, True\n",
        "conj = p and q\n",
        "conj"
      ],
      "metadata": {
        "id": "Nkvjhck57N0P",
        "colab": {
          "base_uri": "https://localhost:8080/"
        },
        "outputId": "f9713e40-0b57-4c7b-b53f-1571d71c83e2"
      },
      "execution_count": null,
      "outputs": [
        {
          "output_type": "execute_result",
          "data": {
            "text/plain": [
              "True"
            ]
          },
          "metadata": {},
          "execution_count": 34
        }
      ]
    },
    {
      "cell_type": "code",
      "source": [
        "p,q = False, False\n",
        "disj = p or q\n",
        "disj"
      ],
      "metadata": {
        "id": "bYmFLLJ77XrM",
        "colab": {
          "base_uri": "https://localhost:8080/"
        },
        "outputId": "b11dc520-4544-4ba5-ec8e-d45119564a00"
      },
      "execution_count": null,
      "outputs": [
        {
          "output_type": "execute_result",
          "data": {
            "text/plain": [
              "False"
            ]
          },
          "metadata": {},
          "execution_count": 35
        }
      ]
    },
    {
      "cell_type": "code",
      "source": [
        "p,q = True, False\n",
        "e = (not p and q) or (p and not q)\n",
        "e"
      ],
      "metadata": {
        "id": "eM2I5ZDq7fYu",
        "colab": {
          "base_uri": "https://localhost:8080/"
        },
        "outputId": "aa1fe2c2-0db4-4534-b175-3e403e50e957"
      },
      "execution_count": null,
      "outputs": [
        {
          "output_type": "execute_result",
          "data": {
            "text/plain": [
              "True"
            ]
          },
          "metadata": {},
          "execution_count": 36
        }
      ]
    },
    {
      "cell_type": "markdown",
      "source": [
        "### I/O"
      ],
      "metadata": {
        "id": "25sbRiTy8DwO"
      }
    },
    {
      "cell_type": "markdown",
      "source": [
        "Python has a lot of built-in functions that we may use right from the Python prompt. Some of the functions, such as input() and print(), are commonly used for common input and output operations. To print data to the standard output device, use the print() function. [5]"
      ],
      "metadata": {
        "id": "kMYwqQY5OKbY"
      }
    },
    {
      "cell_type": "code",
      "source": [
        "print(\"Hello BhoSzxc Lacusxxx!\")"
      ],
      "metadata": {
        "colab": {
          "base_uri": "https://localhost:8080/"
        },
        "id": "ESf40uJq8F6R",
        "outputId": "99536279-620d-445c-b000-f957dbaf9f25"
      },
      "execution_count": null,
      "outputs": [
        {
          "output_type": "stream",
          "name": "stdout",
          "text": [
            "Hello BhoSzxc Lacusxxx!\n"
          ]
        }
      ]
    },
    {
      "cell_type": "code",
      "source": [
        "cnt = 1"
      ],
      "metadata": {
        "id": "oo4QEusz8MWU"
      },
      "execution_count": null,
      "outputs": []
    },
    {
      "cell_type": "code",
      "source": [
        "string = \"Hello BhoSzxc Lacusxxx!\"\n",
        "print(string, \", Current run count is:\", cnt)\n",
        "cnt += 1"
      ],
      "metadata": {
        "id": "ZRaHJYQe8SEz",
        "colab": {
          "base_uri": "https://localhost:8080/"
        },
        "outputId": "8c5b054b-f66d-42e0-f9d4-b0e3bb88fea9"
      },
      "execution_count": null,
      "outputs": [
        {
          "output_type": "stream",
          "name": "stdout",
          "text": [
            "Hello BhoSzxc Lacusxxx! , Current run count is: 1\n"
          ]
        }
      ]
    },
    {
      "cell_type": "code",
      "source": [
        "print(f\"{string}, Current count is: {cnt}\")"
      ],
      "metadata": {
        "id": "C8g7bVR78o1Y",
        "colab": {
          "base_uri": "https://localhost:8080/"
        },
        "outputId": "5d226208-e6e4-43d2-a55f-91cd76eda270"
      },
      "execution_count": null,
      "outputs": [
        {
          "output_type": "stream",
          "name": "stdout",
          "text": [
            "Hello BhoSzxc Lacusxxx!, Current count is: 2\n"
          ]
        }
      ]
    },
    {
      "cell_type": "code",
      "source": [
        "sem_grade = 1.0\n",
        "name = \"Lacus\"\n",
        "print(\"Hello {}, your semestral grade is: {}\" .format(name, sem_grade))"
      ],
      "metadata": {
        "id": "-EDrNCxx9m5S",
        "colab": {
          "base_uri": "https://localhost:8080/"
        },
        "outputId": "9687c904-d012-44d5-f692-38f5cf619673"
      },
      "execution_count": null,
      "outputs": [
        {
          "output_type": "stream",
          "name": "stdout",
          "text": [
            "Hello Lacus, your semestral grade is: 1.0\n"
          ]
        }
      ]
    },
    {
      "cell_type": "code",
      "source": [
        "w_pg, w_mg, w_fg = 0.3, 0.3, 0.4\n",
        "print(\"The weigths of your semestral grades are:\\\n",
        "\\n\\t{:.2%} for Prelims\\\n",
        "\\n\\t{:.2%} for Midterms, and\\\n",
        "\\n\\t{:.2%} for Finals.\".format(w_pg, w_mg, w_fg))"
      ],
      "metadata": {
        "id": "NYaPnPVrABlD",
        "colab": {
          "base_uri": "https://localhost:8080/"
        },
        "outputId": "95bc1813-e0de-4eed-d528-ce674ca8f987"
      },
      "execution_count": null,
      "outputs": [
        {
          "output_type": "stream",
          "name": "stdout",
          "text": [
            "The weigths of your semestral grades are:\n",
            "\t30.00% for Prelims\n",
            "\t30.00% for Midterms, and\n",
            "\t40.00% for Finals.\n"
          ]
        }
      ]
    },
    {
      "cell_type": "code",
      "source": [
        "x = input(\"enter a number: \")\n",
        "x"
      ],
      "metadata": {
        "id": "RbcNp9idugwW",
        "colab": {
          "base_uri": "https://localhost:8080/",
          "height": 53
        },
        "outputId": "1b2272f8-70f0-4f9d-cdb4-116f2c839e12"
      },
      "execution_count": null,
      "outputs": [
        {
          "name": "stdout",
          "output_type": "stream",
          "text": [
            "enter a number: 45\n"
          ]
        },
        {
          "output_type": "execute_result",
          "data": {
            "application/vnd.google.colaboratory.intrinsic+json": {
              "type": "string"
            },
            "text/plain": [
              "'45'"
            ]
          },
          "metadata": {},
          "execution_count": 42
        }
      ]
    },
    {
      "cell_type": "code",
      "source": [
        "name = input(\"name: \")\n",
        "pg = input(\"Enter prelim grade: \")\n",
        "mg = input(\"Enter midterm grade: \")\n",
        "fg = input(\"Enter finals grade: \")\n",
        "sem_grade = 95.67\n",
        "print(\"Hello {}, your semestral grade is: {}\" .format(name, sem_grade))"
      ],
      "metadata": {
        "id": "xMF38IXju_gp",
        "colab": {
          "base_uri": "https://localhost:8080/"
        },
        "outputId": "19c9b647-0e1e-4d78-87ee-b12ac284f66b"
      },
      "execution_count": null,
      "outputs": [
        {
          "output_type": "stream",
          "name": "stdout",
          "text": [
            "name: juriene\n",
            "Enter prelim grade: 90\n",
            "Enter midterm grade: 99\n",
            "Enter finals grade: 98\n",
            "Hello juriene, your semestral grade is: 95.67\n"
          ]
        }
      ]
    },
    {
      "cell_type": "markdown",
      "source": [
        "# Looping Statements"
      ],
      "metadata": {
        "id": "_c5Go0ILv94z"
      }
    },
    {
      "cell_type": "markdown",
      "source": [
        "In a computer program, a loop is an instruction that is repeated until a certain condition is met. The loop in a loop structure poses a query. If the response necessitates action, it is carried out. The same question is asked over and over until there is no more action required. [6]"
      ],
      "metadata": {
        "id": "U8GXemkHPeqd"
      }
    },
    {
      "cell_type": "markdown",
      "source": [
        "## While\n"
      ],
      "metadata": {
        "id": "TcwGIKn2wEB2"
      }
    },
    {
      "cell_type": "code",
      "source": [
        "## while loops\n",
        "i,j = 0, 10\n",
        "while(i<=j):\n",
        "  print(f\"{i}\\t|\\t{j}\")\n",
        "  i+=1"
      ],
      "metadata": {
        "id": "VQcaBOTPwKd4",
        "colab": {
          "base_uri": "https://localhost:8080/"
        },
        "outputId": "22481a8a-ef46-4fe1-ada5-1fc65f9b8227"
      },
      "execution_count": null,
      "outputs": [
        {
          "output_type": "stream",
          "name": "stdout",
          "text": [
            "0\t|\t10\n",
            "1\t|\t10\n",
            "2\t|\t10\n",
            "3\t|\t10\n",
            "4\t|\t10\n",
            "5\t|\t10\n",
            "6\t|\t10\n",
            "7\t|\t10\n",
            "8\t|\t10\n",
            "9\t|\t10\n",
            "10\t|\t10\n"
          ]
        }
      ]
    },
    {
      "cell_type": "code",
      "source": [
        "# for(int i=0; i<10, i++){\n",
        "# printf(i)\n",
        "# }\n",
        "\n",
        "i=0\n",
        "for i in range(10):\n",
        "  print(i)"
      ],
      "metadata": {
        "id": "D2IcGOAcxgOV",
        "colab": {
          "base_uri": "https://localhost:8080/"
        },
        "outputId": "22667476-586f-47f9-e496-75dc316a96f0"
      },
      "execution_count": null,
      "outputs": [
        {
          "output_type": "stream",
          "name": "stdout",
          "text": [
            "0\n",
            "1\n",
            "2\n",
            "3\n",
            "4\n",
            "5\n",
            "6\n",
            "7\n",
            "8\n",
            "9\n"
          ]
        }
      ]
    },
    {
      "cell_type": "code",
      "source": [
        "sinigang = [\"Baboy\", \"Sinigang Mix\", \"Kangkong\", \"Labanos\", \"Sibuyas\", \"Kamatis\",\"Okra\", \"Patis\", \"Siling Panigang\" ]\n",
        "print('Iluto mo na Mhi3:\\n')\n",
        "for ingredients in sinigang:\n",
        "  print(ingredients)"
      ],
      "metadata": {
        "id": "921fi0m3yNNN",
        "colab": {
          "base_uri": "https://localhost:8080/"
        },
        "outputId": "e4422dc8-8e0d-4a2c-85bb-f559666ac828"
      },
      "execution_count": null,
      "outputs": [
        {
          "output_type": "stream",
          "name": "stdout",
          "text": [
            "Iluto mo na Mhi3:\n",
            "\n",
            "Baboy\n",
            "Sinigang Mix\n",
            "Kangkong\n",
            "Labanos\n",
            "Sibuyas\n",
            "Kamatis\n",
            "Okra\n",
            "Patis\n",
            "Siling Panigang\n"
          ]
        }
      ]
    },
    {
      "cell_type": "markdown",
      "source": [
        "# Flow Control"
      ],
      "metadata": {
        "id": "NrmPLB8vywLh"
      }
    },
    {
      "cell_type": "markdown",
      "source": [
        "Flow control describes how programs are told to choose which portions of code to execute. By default, programs execute each line of code in order, with no regard for the order in which they are executed. Control flow allows you to tell the computer when and how to run certain pieces of code. [7]"
      ],
      "metadata": {
        "id": "0NTUi19bQlvU"
      }
    },
    {
      "cell_type": "markdown",
      "source": [
        "## Conditional Statements"
      ],
      "metadata": {
        "id": "CZjLbhxWy01e"
      }
    },
    {
      "cell_type": "markdown",
      "source": [
        "Conditional statements are used through the various programming languages to instruct the computer on the decision to make when given some conditions. These decisions are made if and only if the pre-stated conditions are either true or false , depending on the functions the programmer has in mind. [8]"
      ],
      "metadata": {
        "id": "SZ5mxNtvR4BX"
      }
    },
    {
      "cell_type": "code",
      "source": [
        "numeral1, numeral2 = 12, 11\n",
        "if(numeral1 == numeral2):\n",
        "  print(\"Luh Poser\")\n",
        "elif(numeral1 > numeral2):\n",
        "  print(\"nye nye mas malaki si numeral1\")\n",
        "else:\n",
        "  print(\"tama na yan:'<\")\n"
      ],
      "metadata": {
        "id": "nruI6Oyky3Jc",
        "colab": {
          "base_uri": "https://localhost:8080/"
        },
        "outputId": "c70cefb6-7106-4876-8e62-836d65617408"
      },
      "execution_count": null,
      "outputs": [
        {
          "output_type": "stream",
          "name": "stdout",
          "text": [
            "nye nye mas malaki si numeral1\n"
          ]
        }
      ]
    },
    {
      "cell_type": "markdown",
      "source": [
        "## Functions"
      ],
      "metadata": {
        "id": "7xbL5fPp1tVK"
      }
    },
    {
      "cell_type": "markdown",
      "source": [
        "A function is a code block that only executes when it is invoked. Parameters are data that can be passed into a function. As a result, a function can return data."
      ],
      "metadata": {
        "id": "K5-m1IYpZw2O"
      }
    },
    {
      "cell_type": "code",
      "source": [
        "# void DeleteUser(int userid){\n",
        "# delete(userid);    \n",
        "# }\n",
        "\n",
        "def delete_user (userid):\n",
        "  print(\"Succesfully deleted user: {}\".format(userid))\n",
        "\n",
        "def delete_all_user ():\n",
        "  print(\"Succesfully deleted all users:\")"
      ],
      "metadata": {
        "id": "Xf6hBG8w43CI"
      },
      "execution_count": null,
      "outputs": []
    },
    {
      "cell_type": "code",
      "source": [
        "userid = \"Lacus\"\n",
        "delete_user(\"Lacus\")\n",
        "delete_all_user()"
      ],
      "metadata": {
        "id": "5hEPN1iM5CdG",
        "colab": {
          "base_uri": "https://localhost:8080/"
        },
        "outputId": "01b006a6-a689-47eb-d2fa-28774891028f"
      },
      "execution_count": null,
      "outputs": [
        {
          "output_type": "stream",
          "name": "stdout",
          "text": [
            "Succesfully deleted user: Lacus\n",
            "Succesfully deleted all users:\n"
          ]
        }
      ]
    },
    {
      "cell_type": "code",
      "source": [
        "# void DeleteUser(int userid){\n",
        "# delete(userid);    \n",
        "# }\n",
        "\n",
        "def create_user (userid):\n",
        "  print(\"Succesfully created user: {}\".format(userid))\n",
        "\n",
        "def create_all_user ():\n",
        "  print(\"Succesfully created all users: Lacus, Octavius and Tiger\")"
      ],
      "metadata": {
        "id": "qZ0HM8iW1wh8"
      },
      "execution_count": null,
      "outputs": []
    },
    {
      "cell_type": "code",
      "source": [
        "userid = \"Lacus\"\n",
        "create_user(\"Lacus\")\n",
        "create_all_user()"
      ],
      "metadata": {
        "id": "9mZcHKHu2UAR",
        "colab": {
          "base_uri": "https://localhost:8080/"
        },
        "outputId": "3d2376cf-c4d1-475a-8ef2-617bb796a492"
      },
      "execution_count": null,
      "outputs": [
        {
          "output_type": "stream",
          "name": "stdout",
          "text": [
            "Succesfully created user: Lacus\n",
            "Succesfully created all users: Lacus, Octavius and Tiger\n"
          ]
        }
      ]
    },
    {
      "cell_type": "code",
      "source": [
        "def add(addend1, addend2):\n",
        "  return addend1 + addend2\n",
        "\n",
        "def power_of_base2(exponent):\n",
        "  return 4**exponent"
      ],
      "metadata": {
        "id": "1IamhoW73DkX"
      },
      "execution_count": null,
      "outputs": []
    },
    {
      "cell_type": "code",
      "source": [
        "addend1, addend2 = 34, 35\n",
        "add(addend1, addend2)"
      ],
      "metadata": {
        "id": "wNALOPKT3wTX",
        "colab": {
          "base_uri": "https://localhost:8080/"
        },
        "outputId": "28c55ef8-bc36-4b80-a51c-781a90dd6310"
      },
      "execution_count": null,
      "outputs": [
        {
          "output_type": "execute_result",
          "data": {
            "text/plain": [
              "69"
            ]
          },
          "metadata": {},
          "execution_count": 61
        }
      ]
    },
    {
      "cell_type": "code",
      "source": [
        "exponent = 5\n",
        "power_of_base2(exponent)"
      ],
      "metadata": {
        "id": "suF6DU3A4Hpx",
        "colab": {
          "base_uri": "https://localhost:8080/"
        },
        "outputId": "785eb17d-3ebf-4f78-b803-cf8500fe3ed6"
      },
      "execution_count": null,
      "outputs": [
        {
          "output_type": "execute_result",
          "data": {
            "text/plain": [
              "1024"
            ]
          },
          "metadata": {},
          "execution_count": 62
        }
      ]
    },
    {
      "cell_type": "markdown",
      "source": [
        "## Grade Calculator"
      ],
      "metadata": {
        "id": "BHUuvdP8dyvR"
      }
    },
    {
      "cell_type": "code",
      "source": [
        "print(\"WELCOME TO MY GRADE CALCULATOR!\\\n",
        "\\n\\t I will be your helper today.\\\n",
        "\\n\\t Please follow the instructions and I will do the rest\\\n",
        "\\n\\t Goodluck!\")\n",
        "\n",
        "name =  input(\"Enter student's name: \")\n",
        "program = input(\"Enter program: \")\n",
        "\n",
        "course = input(\"Enter course: \")\n",
        "pg = float (input(\"Enter prelim grade: \"))\n",
        "mg = float (input(\"Enter midterm grade: \"))\n",
        "fg = float (input(\"Enter finals grade: \"))\n",
        "sem_grade = float ((pg*0.3)+(mg*0.3)+(fg*0.4))\n",
        "\n",
        "print(\"Well Done, Master {}! Your semestral grade for the course {} is: {:.2f}\" .format(name, course, sem_grade))\n",
        "\n",
        "if(sem_grade == 70.00):\n",
        "  print(\"Mood check: \\U0001F606\")\n",
        "elif(sem_grade > 70.00):\n",
        "  print(\"Mood check: \\U0001f600\")\n",
        "else:\n",
        "  print(\"Mood check: \\U0001F62D\")"
      ],
      "metadata": {
        "id": "Q6ZXPuPzd5XD",
        "colab": {
          "base_uri": "https://localhost:8080/"
        },
        "outputId": "2bcca62e-4d62-4a6e-cfcb-01fe3c737851"
      },
      "execution_count": null,
      "outputs": [
        {
          "output_type": "stream",
          "name": "stdout",
          "text": [
            "WELCOME TO MY GRADE CALCULATOR!\n",
            "\t I will be your helper today.\n",
            "\t Please follow the instructions and I will do the rest\n",
            "\t Goodluck!\n",
            "Enter student's name: Juriene\n",
            "Enter program: BS Chemical Engineering\n",
            "Enter course: Linear Algebra\n",
            "Enter prelim grade: 98\n",
            "Enter midterm grade: 97\n",
            "Enter finals grade: 98\n",
            "Well Done, Master Juriene! Your semestral grade for the course Linear Algebra is: 97.70\n",
            "Mood check: 😀\n"
          ]
        }
      ]
    }
  ]
}