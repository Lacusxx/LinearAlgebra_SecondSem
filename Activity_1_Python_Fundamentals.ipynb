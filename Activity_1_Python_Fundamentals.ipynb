{
  "nbformat": 4,
  "nbformat_minor": 0,
  "metadata": {
    "colab": {
      "name": "Activity 1 - Python Fundamentals",
      "provenance": [],
      "collapsed_sections": [],
      "authorship_tag": "ABX9TyMeqoxsVLDI4XVAXlODhYqd",
      "include_colab_link": true
    },
    "kernelspec": {
      "name": "python3",
      "display_name": "Python 3"
    },
    "language_info": {
      "name": "python"
    }
  },
  "cells": [
    {
      "cell_type": "markdown",
      "metadata": {
        "id": "view-in-github",
        "colab_type": "text"
      },
      "source": [
        "<a href=\"https://colab.research.google.com/github/Lacusxx/LinearAlgebra_SecondSem/blob/main/Activity_1_Python_Fundamentals.ipynb\" target=\"_parent\"><img src=\"https://colab.research.google.com/assets/colab-badge.svg\" alt=\"Open In Colab\"/></a>"
      ]
    },
    {
      "cell_type": "markdown",
      "source": [
        "# Welcome to Python Fundamentals\n",
        "In this module, we are going to establish or review our skills in Python programming. In this notebook we are going to cover:\n",
        "* Variables and Data Types \n",
        "* Operations\n",
        "* Input and Output Operations\n",
        "* Logic Control\n",
        "* Iterables\n",
        "* Functions\n"
      ],
      "metadata": {
        "id": "RBNymXkWtGoo"
      }
    },
    {
      "cell_type": "markdown",
      "source": [
        "## Variable and Data Types"
      ],
      "metadata": {
        "id": "2IaKEQXvtQWa"
      }
    },
    {
      "cell_type": "code",
      "source": [
        "x = 1\n",
        "c , j = 2 , 25"
      ],
      "metadata": {
        "id": "YEUEvlsetYmF"
      },
      "execution_count": null,
      "outputs": []
    },
    {
      "cell_type": "code",
      "source": [
        "type(j)"
      ],
      "metadata": {
        "id": "8QV_8sSBvFGy"
      },
      "execution_count": null,
      "outputs": []
    },
    {
      "cell_type": "code",
      "source": [
        "y = 1.0\n",
        "type(y)"
      ],
      "metadata": {
        "id": "5fmTjDiTvaqO"
      },
      "execution_count": null,
      "outputs": []
    },
    {
      "cell_type": "code",
      "source": [
        "x = float(x)\n",
        "type(x)"
      ],
      "metadata": {
        "id": "ANwCCRmUv8h9"
      },
      "execution_count": null,
      "outputs": []
    },
    {
      "cell_type": "code",
      "source": [
        "s,t,u = \"0\",\"1\",\"one\"\n",
        "type(s)"
      ],
      "metadata": {
        "id": "VLgAlSzhwqOj"
      },
      "execution_count": null,
      "outputs": []
    },
    {
      "cell_type": "code",
      "source": [
        "s_int = int(s)\n",
        "s_int"
      ],
      "metadata": {
        "id": "N48gbpMQ1eyv"
      },
      "execution_count": null,
      "outputs": []
    },
    {
      "cell_type": "markdown",
      "source": [
        "## Operations"
      ],
      "metadata": {
        "id": "b0-xZ3RjyCGG"
      }
    },
    {
      "cell_type": "markdown",
      "source": [
        "### Arithmetic"
      ],
      "metadata": {
        "id": "yeRGwRyZyKkZ"
      }
    },
    {
      "cell_type": "code",
      "source": [
        "a,b,c,d = 2.0, -0.5, 0, -32"
      ],
      "metadata": {
        "id": "uNHqx6CgyNgW"
      },
      "execution_count": null,
      "outputs": []
    },
    {
      "cell_type": "code",
      "source": [
        "### Addition\n",
        "S = a+b\n",
        "S"
      ],
      "metadata": {
        "id": "DkTioGiEyVOb"
      },
      "execution_count": null,
      "outputs": []
    },
    {
      "cell_type": "code",
      "source": [
        "### Subtraction\n",
        "D = b-d\n",
        "D"
      ],
      "metadata": {
        "id": "ZFSlHeDnysJ7"
      },
      "execution_count": null,
      "outputs": []
    },
    {
      "cell_type": "code",
      "source": [
        "### Multiplication\n",
        "P = a*d\n",
        "P"
      ],
      "metadata": {
        "id": "XZZRe4Akzds_"
      },
      "execution_count": null,
      "outputs": []
    },
    {
      "cell_type": "code",
      "source": [
        "### Division\n",
        "Q = d/a\n",
        "Q"
      ],
      "metadata": {
        "id": "rB3q-p33zoYk"
      },
      "execution_count": null,
      "outputs": []
    },
    {
      "cell_type": "code",
      "source": [
        "### Floor Division\n",
        "Fq = a//b\n",
        "Fq"
      ],
      "metadata": {
        "id": "fcqm7pzPzzD-"
      },
      "execution_count": null,
      "outputs": []
    },
    {
      "cell_type": "code",
      "source": [
        "### Exponentiation\n",
        "E = d**a\n",
        "E"
      ],
      "metadata": {
        "id": "5ZU42-G30wZo"
      },
      "execution_count": null,
      "outputs": []
    },
    {
      "cell_type": "code",
      "source": [
        "### Modulo\n",
        "mod = d%b\n",
        "mod"
      ],
      "metadata": {
        "id": "pg9-_hLR0-tk"
      },
      "execution_count": null,
      "outputs": []
    },
    {
      "cell_type": "markdown",
      "source": [
        "### Assignment Operations"
      ],
      "metadata": {
        "id": "4Be5ndwY1hdy"
      }
    },
    {
      "cell_type": "code",
      "source": [
        "G, H, J, K = 0, 100, 2, 3"
      ],
      "metadata": {
        "id": "DhSC9p0J1mZJ"
      },
      "execution_count": null,
      "outputs": []
    },
    {
      "cell_type": "code",
      "source": [
        "G += a\n",
        "G"
      ],
      "metadata": {
        "id": "MwYzZZ6e1x1T"
      },
      "execution_count": null,
      "outputs": []
    },
    {
      "cell_type": "code",
      "source": [
        "H -= a\n",
        "H"
      ],
      "metadata": {
        "id": "P2-uqNgW2CIJ"
      },
      "execution_count": null,
      "outputs": []
    },
    {
      "cell_type": "code",
      "source": [
        "J *= a\n",
        "J"
      ],
      "metadata": {
        "id": "cAEgrVgD2NCf"
      },
      "execution_count": null,
      "outputs": []
    },
    {
      "cell_type": "code",
      "source": [
        "K **= a\n",
        "K"
      ],
      "metadata": {
        "id": "XjofAAO02UJb"
      },
      "execution_count": null,
      "outputs": []
    },
    {
      "cell_type": "markdown",
      "source": [
        "## Comparators"
      ],
      "metadata": {
        "id": "PGH0ni0m3eeX"
      }
    },
    {
      "cell_type": "code",
      "source": [
        "res_1, res_2, res_3 = 1, 2.0, \"1\"\n",
        "true_val = 1.0"
      ],
      "metadata": {
        "id": "mpSONViq3h0J"
      },
      "execution_count": null,
      "outputs": []
    },
    {
      "cell_type": "code",
      "source": [
        "## Equality\n",
        "res_1 == true_val"
      ],
      "metadata": {
        "id": "HTHKK3Lu3tNy"
      },
      "execution_count": null,
      "outputs": []
    },
    {
      "cell_type": "code",
      "source": [
        "## Non-equality\n",
        "res_2 != true_val"
      ],
      "metadata": {
        "id": "AAh5ynX_3310"
      },
      "execution_count": null,
      "outputs": []
    },
    {
      "cell_type": "code",
      "source": [
        "## Inequality\n",
        "t1 = res_1 > res_2\n",
        "t2 = res_1 < res_2/2\n",
        "t3 = res_1 >= res_2/2\n",
        "t4 = res_1 <= res_2/2\n",
        "t4"
      ],
      "metadata": {
        "id": "ZtCUrYXg4Aeu"
      },
      "execution_count": null,
      "outputs": []
    },
    {
      "cell_type": "markdown",
      "source": [
        "### Logical\n"
      ],
      "metadata": {
        "id": "sM7377L35a11"
      }
    },
    {
      "cell_type": "code",
      "source": [
        "res_1 == true_val"
      ],
      "metadata": {
        "id": "AmzNaKO75cc5"
      },
      "execution_count": null,
      "outputs": []
    },
    {
      "cell_type": "code",
      "source": [
        "res_1 is true_val"
      ],
      "metadata": {
        "id": "lXrWVipA6rDR"
      },
      "execution_count": null,
      "outputs": []
    },
    {
      "cell_type": "code",
      "source": [
        "res_1 is not true_val"
      ],
      "metadata": {
        "id": "SfY1n6Nt5lRR"
      },
      "execution_count": null,
      "outputs": []
    },
    {
      "cell_type": "code",
      "source": [
        "p,q = True, True\n",
        "conj = p and q\n",
        "conj"
      ],
      "metadata": {
        "id": "Nkvjhck57N0P"
      },
      "execution_count": null,
      "outputs": []
    },
    {
      "cell_type": "code",
      "source": [
        "p,q = False, False\n",
        "disj = p or q\n",
        "disj"
      ],
      "metadata": {
        "id": "bYmFLLJ77XrM"
      },
      "execution_count": null,
      "outputs": []
    },
    {
      "cell_type": "code",
      "source": [
        "p,q = True, False\n",
        "e = (not p and q) or (p and not q)\n",
        "e"
      ],
      "metadata": {
        "id": "eM2I5ZDq7fYu"
      },
      "execution_count": null,
      "outputs": []
    },
    {
      "cell_type": "markdown",
      "source": [
        "### I/O"
      ],
      "metadata": {
        "id": "25sbRiTy8DwO"
      }
    },
    {
      "cell_type": "code",
      "source": [
        "print(\"Hello BhoSzxc Lacusxxx!\")"
      ],
      "metadata": {
        "colab": {
          "base_uri": "https://localhost:8080/"
        },
        "id": "ESf40uJq8F6R",
        "outputId": "99536279-620d-445c-b000-f957dbaf9f25"
      },
      "execution_count": null,
      "outputs": [
        {
          "output_type": "stream",
          "name": "stdout",
          "text": [
            "Hello BhoSzxc Lacusxxx!\n"
          ]
        }
      ]
    },
    {
      "cell_type": "code",
      "source": [
        "cnt = 1"
      ],
      "metadata": {
        "id": "oo4QEusz8MWU"
      },
      "execution_count": null,
      "outputs": []
    },
    {
      "cell_type": "code",
      "source": [
        "string = \"Hello BhoSzxc Lacusxxx!\"\n",
        "print(string, \", Current run count is:\", cnt)\n",
        "cnt += 1"
      ],
      "metadata": {
        "id": "ZRaHJYQe8SEz",
        "colab": {
          "base_uri": "https://localhost:8080/"
        },
        "outputId": "30617d2e-095a-4a2b-f7a9-6fe5ada45f4c"
      },
      "execution_count": null,
      "outputs": [
        {
          "output_type": "stream",
          "name": "stdout",
          "text": [
            "Hello BhoSzxc Lacusxxx! , Current run count is: 3\n"
          ]
        }
      ]
    },
    {
      "cell_type": "code",
      "source": [
        "print(f\"{string}, Current count is: {cnt}\")"
      ],
      "metadata": {
        "id": "C8g7bVR78o1Y"
      },
      "execution_count": null,
      "outputs": []
    },
    {
      "cell_type": "code",
      "source": [
        "sem_grade = 1.0\n",
        "name = \"Lacus\"\n",
        "print(\"Hello {}, your semestral grade is: {}\" .format(name, sem_grade))"
      ],
      "metadata": {
        "id": "-EDrNCxx9m5S"
      },
      "execution_count": null,
      "outputs": []
    },
    {
      "cell_type": "code",
      "source": [
        "w_pg, w_mg, w_fg = 0.3, 0.3, 0.4\n",
        "print(\"The weigths of your semestral grades are:\\\n",
        "\\n\\t{:.2%} for Prelims\\\n",
        "\\n\\t{:.2%} for Midterms, and\\\n",
        "\\n\\t{:.2%} for Finals.\".format(w_pg, w_mg, w_fg))"
      ],
      "metadata": {
        "id": "NYaPnPVrABlD"
      },
      "execution_count": null,
      "outputs": []
    },
    {
      "cell_type": "code",
      "source": [
        "x = input(\"enter a number: \")\n",
        "x"
      ],
      "metadata": {
        "id": "RbcNp9idugwW"
      },
      "execution_count": null,
      "outputs": []
    },
    {
      "cell_type": "code",
      "source": [
        "name = input(\"name: \")\n",
        "pg = input(\"Enter prelim grade: \")\n",
        "mg = input(\"Enter midterm grade: \")\n",
        "fg = input(\"Enter finals grade: \")\n",
        "sem_grade = 90\n",
        "print(\"Hello {}, your semestral grade is: {}\" .format(name, sem_grade))"
      ],
      "metadata": {
        "id": "xMF38IXju_gp"
      },
      "execution_count": null,
      "outputs": []
    },
    {
      "cell_type": "markdown",
      "source": [
        "# Looping Statements"
      ],
      "metadata": {
        "id": "_c5Go0ILv94z"
      }
    },
    {
      "cell_type": "markdown",
      "source": [
        "## While\n"
      ],
      "metadata": {
        "id": "TcwGIKn2wEB2"
      }
    },
    {
      "cell_type": "code",
      "source": [
        "## while loops\n",
        "i,j = 0, 10\n",
        "while(i<=j):\n",
        "  print(f\"{i}\\t|\\t{j}\")\n",
        "  i+=1"
      ],
      "metadata": {
        "id": "VQcaBOTPwKd4"
      },
      "execution_count": null,
      "outputs": []
    },
    {
      "cell_type": "code",
      "source": [
        "# for(int i=0; i<10, i++){\n",
        "# printf(i)\n",
        "# }\n",
        "\n",
        "i=0\n",
        "for i in range(10):\n",
        "  print(i)"
      ],
      "metadata": {
        "id": "D2IcGOAcxgOV"
      },
      "execution_count": null,
      "outputs": []
    },
    {
      "cell_type": "code",
      "source": [
        "sinigang = [\"Baboy\", \"Sinigang Mix\", \"Kangkong\", \"Labanos\", \"Sibuyas\", \"Kamatis\",\"Okra\", \"Patis\", \"Siling Panigang\" ]\n",
        "print('Iluto mo na Mhi3:\\n')\n",
        "for ingredients in sinigang:\n",
        "  print(ingredients)"
      ],
      "metadata": {
        "id": "921fi0m3yNNN"
      },
      "execution_count": null,
      "outputs": []
    },
    {
      "cell_type": "markdown",
      "source": [
        "# Flow Control"
      ],
      "metadata": {
        "id": "NrmPLB8vywLh"
      }
    },
    {
      "cell_type": "markdown",
      "source": [
        "## Conditional Statements"
      ],
      "metadata": {
        "id": "CZjLbhxWy01e"
      }
    },
    {
      "cell_type": "code",
      "source": [
        "numeral1, numeral2 = 12, 11\n",
        "if(numeral1 == numeral2):\n",
        "  print(\"Luh Poser\")\n",
        "elif(numeral1 > numeral2):\n",
        "  print(\"nye nye mas malaki si numeral1\")\n",
        "else:\n",
        "  print(\"tama na yan:'<\")\n"
      ],
      "metadata": {
        "id": "nruI6Oyky3Jc"
      },
      "execution_count": null,
      "outputs": []
    },
    {
      "cell_type": "markdown",
      "source": [
        "## Functions"
      ],
      "metadata": {
        "id": "7xbL5fPp1tVK"
      }
    },
    {
      "cell_type": "code",
      "source": [
        "# void DeleteUser(int userid){\n",
        "# delete(userid);    \n",
        "# }\n",
        "\n",
        "def delete_user (userid):\n",
        "  print(\"Succesfully deleted user: {}\".format(userid))\n",
        "\n",
        "def delete_all_user ():\n",
        "  print(\"Succesfully deleted all users:\")"
      ],
      "metadata": {
        "id": "Xf6hBG8w43CI"
      },
      "execution_count": null,
      "outputs": []
    },
    {
      "cell_type": "code",
      "source": [
        "userid = \"Lacus\"\n",
        "delete_user(\"Lacus\")\n",
        "delete_all_user()"
      ],
      "metadata": {
        "id": "5hEPN1iM5CdG"
      },
      "execution_count": null,
      "outputs": []
    },
    {
      "cell_type": "code",
      "source": [
        "# void DeleteUser(int userid){\n",
        "# delete(userid);    \n",
        "# }\n",
        "\n",
        "def create_user (userid):\n",
        "  print(\"Succesfully created user: {}\".format(userid))\n",
        "\n",
        "def create_all_user ():\n",
        "  print(\"Succesfully created all users: Lacus, Octavius and Tiger\")"
      ],
      "metadata": {
        "id": "qZ0HM8iW1wh8"
      },
      "execution_count": null,
      "outputs": []
    },
    {
      "cell_type": "code",
      "source": [
        "userid = \"Lacus\"\n",
        "create_user(\"Lacus\")\n",
        "create_all_user()"
      ],
      "metadata": {
        "id": "9mZcHKHu2UAR"
      },
      "execution_count": null,
      "outputs": []
    },
    {
      "cell_type": "code",
      "source": [
        "def add(addend1, addend2):\n",
        "  return addend1 + addend2\n",
        "\n",
        "def power_of_base2(exponent):\n",
        "  return 4**exponent"
      ],
      "metadata": {
        "id": "1IamhoW73DkX"
      },
      "execution_count": null,
      "outputs": []
    },
    {
      "cell_type": "code",
      "source": [
        "addend1, addend2 = 34, 35\n",
        "add(addend1, addend2)"
      ],
      "metadata": {
        "id": "wNALOPKT3wTX"
      },
      "execution_count": null,
      "outputs": []
    },
    {
      "cell_type": "code",
      "source": [
        "exponent = 5\n",
        "power_of_base2(exponent)"
      ],
      "metadata": {
        "id": "suF6DU3A4Hpx"
      },
      "execution_count": null,
      "outputs": []
    }
  ]
}