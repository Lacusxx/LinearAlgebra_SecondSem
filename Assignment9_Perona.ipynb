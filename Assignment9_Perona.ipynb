{
  "nbformat": 4,
  "nbformat_minor": 0,
  "metadata": {
    "kernelspec": {
      "display_name": "Python 3",
      "language": "python",
      "name": "python3"
    },
    "language_info": {
      "codemirror_mode": {
        "name": "ipython",
        "version": 3
      },
      "file_extension": ".py",
      "mimetype": "text/x-python",
      "name": "python",
      "nbconvert_exporter": "python",
      "pygments_lexer": "ipython3",
      "version": "3.8.3"
    },
    "colab": {
      "name": "VECTORS IN PYTHON",
      "provenance": [],
      "collapsed_sections": [],
      "include_colab_link": true
    }
  },
  "cells": [
    {
      "cell_type": "markdown",
      "metadata": {
        "id": "view-in-github",
        "colab_type": "text"
      },
      "source": [
        "<a href=\"https://colab.research.google.com/github/Lacusxx/LinearAlgebra_SecondSem/blob/main/Assignment9_Perona.ipynb\" target=\"_parent\"><img src=\"https://colab.research.google.com/assets/colab-badge.svg\" alt=\"Open In Colab\"/></a>"
      ]
    },
    {
      "cell_type": "markdown",
      "metadata": {
        "id": "SLUubLCzHs4V"
      },
      "source": [
        "# Lab 9 - Plotting Vector using NumPy and MatPlotLib"
      ]
    },
    {
      "cell_type": "markdown",
      "metadata": {
        "id": "Wg4cezD8Hs4b"
      },
      "source": [
        "### Objectives\n",
        "At the end of this activity you will be able to:\n",
        "1. Be familiar with the libraries in Python for numerical and scientific programming.\n",
        "2. Visualize vectors through Python programming.\n",
        "3. Perform simple vector operations through code."
      ]
    },
    {
      "cell_type": "markdown",
      "metadata": {
        "id": "UQD7DoC2Hs4b"
      },
      "source": [
        "## Discussion"
      ]
    },
    {
      "cell_type": "markdown",
      "metadata": {
        "id": "A6grbAIbHs4c"
      },
      "source": [
        "### NumPy"
      ]
    },
    {
      "cell_type": "markdown",
      "metadata": {
        "id": "xY4puSv4Hs4d"
      },
      "source": [
        "A developer can use NumPy to accomplish the following operations:\n",
        "\n",
        "1. Array mathematical and logical operations\n",
        "\n",
        "2. Fourier transformations and shape manipulation routines\n",
        "\n",
        "3. Operations involving linear algebra. NumPy includes linear algebra and random number generating functions."
      ]
    },
    {
      "cell_type": "markdown",
      "metadata": {
        "id": "Psf8tzmWH4b6"
      },
      "source": [
        "###Scalars \n",
        "Quantities that can only be described by their magnitude or numerical value.\n",
        "\n",
        "###Vectors \n",
        "Quantities that have a magnitude as well as a direction."
      ]
    },
    {
      "cell_type": "markdown",
      "metadata": {
        "id": "OXixP-e6Hs4d"
      },
      "source": [
        "#### Representing Vectors"
      ]
    },
    {
      "cell_type": "markdown",
      "metadata": {
        "id": "y-nXPTTuHs4e"
      },
      "source": [
        "Now that you know how to represent vectors using their component and matrix form we can now hard-code them in Python. Let's say that you have the vectors:"
      ]
    },
    {
      "cell_type": "markdown",
      "metadata": {
        "id": "LlEfOzbtHs4e"
      },
      "source": [
        "$$ A = 6\\hat{x} +9\\hat{y} \\\\\n",
        "B = \\hat{x} - 76\\hat{y}\\\\\n",
        "C = 57ax + 31ay - 9az \\\\\n",
        "D = 7\\hat{i} - 45\\hat{j} + 8\\hat{k}$$"
      ]
    },
    {
      "cell_type": "markdown",
      "metadata": {
        "id": "l6LHUvnRHs4f"
      },
      "source": [
        "In which it's matrix equivalent is:"
      ]
    },
    {
      "cell_type": "markdown",
      "metadata": {
        "id": "YKAjjPnYHs4g"
      },
      "source": [
        "$$ A = \\begin{bmatrix} 6 \\\\ 9\\end{bmatrix} , B = \\begin{bmatrix} 1 \\\\ -76\\end{bmatrix} , C = \\begin{bmatrix} 57 \\\\ 31 \\\\  -9 \\end{bmatrix}, D = \\begin{bmatrix} 7 \\\\ -45 \\\\ 8\\end{bmatrix}\n",
        "$$\n",
        "$$ A = \\begin{bmatrix} 6 & 9\\end{bmatrix} , B = \\begin{bmatrix} 1 & -76\\end{bmatrix} , C = \\begin{bmatrix} 57 & 31 & -9\\end{bmatrix} , D = \\begin{bmatrix} 7 & -45 & 8\\end{bmatrix} \n",
        "$$"
      ]
    },
    {
      "cell_type": "markdown",
      "metadata": {
        "id": "lkrX9lHBHs4g"
      },
      "source": [
        "We can then start doing numpy code with this by:"
      ]
    },
    {
      "cell_type": "code",
      "metadata": {
        "id": "Vi6yz53gHs4h"
      },
      "source": [
        "import numpy as np "
      ],
      "execution_count": null,
      "outputs": []
    },
    {
      "cell_type": "code",
      "metadata": {
        "colab": {
          "base_uri": "https://localhost:8080/"
        },
        "id": "KGr4fBg0Hs4j",
        "outputId": "57293fb4-58f3-4e21-bbaa-344b83fbaecd"
      },
      "source": [
        "A = np.array([6, 9])\n",
        "B = np.array([1, -76])\n",
        "C = np.array([\n",
        "              [57],\n",
        "              [31],\n",
        "              [-9]\n",
        "              ])\n",
        "D = np.array ([[7],\n",
        "              [-45],\n",
        "              [8]])\n",
        "print('Vector A is ', A)\n",
        "print('Vector B is ', B)\n",
        "print('Vector C is ', C)\n",
        "print('Vector D is ', D)"
      ],
      "execution_count": null,
      "outputs": [
        {
          "output_type": "stream",
          "name": "stdout",
          "text": [
            "Vector A is  [6 9]\n",
            "Vector B is  [  1 -76]\n",
            "Vector C is  [[57]\n",
            " [31]\n",
            " [-9]]\n",
            "Vector D is  [[  7]\n",
            " [-45]\n",
            " [  8]]\n"
          ]
        }
      ]
    },
    {
      "cell_type": "markdown",
      "metadata": {
        "id": "DQhfqdq_Hs4l"
      },
      "source": [
        "#### Describing vectors in NumPy"
      ]
    },
    {
      "cell_type": "markdown",
      "metadata": {
        "id": "fzU-jDHoHs4m"
      },
      "source": [
        "Describing vectors is very important if we want to perform basic to advanced operations with them. The fundamental ways in describing vectors are knowing their shape, size and dimensions."
      ]
    },
    {
      "cell_type": "code",
      "metadata": {
        "colab": {
          "base_uri": "https://localhost:8080/"
        },
        "id": "HRz2gx6JHs4n",
        "outputId": "dedcd442-f868-41e4-8730-961d3669ada2"
      },
      "source": [
        "U = np.array([[1, 0, 2, 5, -0.2, 0],\n",
        "             [2, 7, 6, -4, -76, 9]])\n",
        "U.shape"
      ],
      "execution_count": null,
      "outputs": [
        {
          "output_type": "execute_result",
          "data": {
            "text/plain": [
              "(2, 6)"
            ]
          },
          "metadata": {},
          "execution_count": 10
        }
      ]
    },
    {
      "cell_type": "code",
      "metadata": {
        "colab": {
          "base_uri": "https://localhost:8080/"
        },
        "id": "dlDEokrAHs4o",
        "outputId": "9705898d-9cf7-4299-8c4e-55062c96fd4b"
      },
      "source": [
        "A.size"
      ],
      "execution_count": null,
      "outputs": [
        {
          "output_type": "execute_result",
          "data": {
            "text/plain": [
              "2"
            ]
          },
          "metadata": {},
          "execution_count": 11
        }
      ]
    },
    {
      "cell_type": "code",
      "metadata": {
        "colab": {
          "base_uri": "https://localhost:8080/"
        },
        "id": "lwAQGA_JHs4p",
        "outputId": "d1611241-271e-4efe-85cb-2260518d6be3"
      },
      "source": [
        "C.ndim"
      ],
      "execution_count": null,
      "outputs": [
        {
          "output_type": "execute_result",
          "data": {
            "text/plain": [
              "2"
            ]
          },
          "metadata": {},
          "execution_count": 15
        }
      ]
    },
    {
      "cell_type": "markdown",
      "metadata": {
        "id": "MReB86duHs4q"
      },
      "source": [
        "Great! Now let's try to explore in performing operations with these vectors."
      ]
    },
    {
      "cell_type": "markdown",
      "metadata": {
        "id": "tMdCFWyUHs4r"
      },
      "source": [
        "#### Addition"
      ]
    },
    {
      "cell_type": "markdown",
      "metadata": {
        "id": "OjVFwq6iHs4r"
      },
      "source": [
        "The addition rule is simple, the we just need to add the elements of the matrices according to their index. So in this case if we add vector $A$ and vector $B$ we will have a resulting vector:"
      ]
    },
    {
      "cell_type": "markdown",
      "metadata": {
        "id": "9zUtJ7oEHs4s"
      },
      "source": [
        "$$R = 6\\hat{x}-2\\hat{y} \\\\ \\\\or \\\\ \\\\ R = \\begin{bmatrix} 6 \\\\ -2\\end{bmatrix} $$"
      ]
    },
    {
      "cell_type": "markdown",
      "metadata": {
        "id": "gVg-6JwyHs4s"
      },
      "source": [
        "So let's try to do that in NumPy in several number of ways:"
      ]
    },
    {
      "cell_type": "code",
      "metadata": {
        "id": "X1D_izU4Hs4t",
        "outputId": "ae431278-f0d5-4031-bc85-7423ff308044",
        "colab": {
          "base_uri": "https://localhost:8080/"
        }
      },
      "source": [
        "R = np.add(A, B) \n",
        "R"
      ],
      "execution_count": null,
      "outputs": [
        {
          "output_type": "execute_result",
          "data": {
            "text/plain": [
              "array([  7, -67])"
            ]
          },
          "metadata": {},
          "execution_count": 25
        }
      ]
    },
    {
      "cell_type": "code",
      "source": [
        "P = np.add(C,D)\n",
        "P"
      ],
      "metadata": {
        "id": "YimvC8gcVF-G",
        "outputId": "7eee5f61-6f48-4022-bc92-9e7287ceb215",
        "colab": {
          "base_uri": "https://localhost:8080/"
        }
      },
      "execution_count": null,
      "outputs": [
        {
          "output_type": "execute_result",
          "data": {
            "text/plain": [
              "array([[ 64],\n",
              "       [-14],\n",
              "       [ -1]])"
            ]
          },
          "metadata": {},
          "execution_count": 24
        }
      ]
    },
    {
      "cell_type": "code",
      "metadata": {
        "colab": {
          "base_uri": "https://localhost:8080/"
        },
        "id": "jzH3b6dtHs4t",
        "outputId": "db8042c6-3a99-4dbe-94bb-fa644c917100"
      },
      "source": [
        "R = A + B   \n",
        "R"
      ],
      "execution_count": null,
      "outputs": [
        {
          "output_type": "execute_result",
          "data": {
            "text/plain": [
              "array([  7, -67])"
            ]
          },
          "metadata": {},
          "execution_count": 21
        }
      ]
    },
    {
      "cell_type": "code",
      "source": [
        "P = C + D\n",
        "P"
      ],
      "metadata": {
        "id": "cLnQZ6_iVLT0",
        "outputId": "fc95c069-9fdd-422a-d353-03701b58ecd7",
        "colab": {
          "base_uri": "https://localhost:8080/"
        }
      },
      "execution_count": null,
      "outputs": [
        {
          "output_type": "execute_result",
          "data": {
            "text/plain": [
              "array([[ 64],\n",
              "       [-14],\n",
              "       [ -1]])"
            ]
          },
          "metadata": {},
          "execution_count": 27
        }
      ]
    },
    {
      "cell_type": "code",
      "metadata": {
        "colab": {
          "base_uri": "https://localhost:8080/"
        },
        "id": "lFpzDkUbVE-s",
        "outputId": "5db5fee1-f1fb-4c75-cabf-a4917a3eacb0"
      },
      "source": [
        "pos1 = np.array([0,0,0])\n",
        "pos2 = np.array([0,1,3])\n",
        "pos3 = np.array([8,3,-22])\n",
        "pos4 = np.array([7,-89,122])\n",
        "R = pos3 / pos4\n",
        "R"
      ],
      "execution_count": null,
      "outputs": [
        {
          "output_type": "execute_result",
          "data": {
            "text/plain": [
              "array([ 1.14285714, -0.03370787, -0.18032787])"
            ]
          },
          "metadata": {},
          "execution_count": 28
        }
      ]
    },
    {
      "cell_type": "markdown",
      "metadata": {
        "id": "CuAeF55ZHs4u"
      },
      "source": [
        "##### Try for yourself!"
      ]
    },
    {
      "cell_type": "markdown",
      "metadata": {
        "id": "oeSxmIS8Hs4v"
      },
      "source": [
        "Try to implement subtraction, multiplication, and division with vectors $A$ and $B$!"
      ]
    },
    {
      "cell_type": "code",
      "metadata": {
        "id": "g4-WGjUvHs4v",
        "outputId": "26b83c22-29f2-4a05-b152-8dbed74f2023",
        "colab": {
          "base_uri": "https://localhost:8080/"
        }
      },
      "source": [
        "R = A - B\n",
        "R"
      ],
      "execution_count": null,
      "outputs": [
        {
          "output_type": "execute_result",
          "data": {
            "text/plain": [
              "array([ 5, 85])"
            ]
          },
          "metadata": {},
          "execution_count": 29
        }
      ]
    },
    {
      "cell_type": "code",
      "source": [
        "R = B*A\n",
        "R"
      ],
      "metadata": {
        "id": "bvYefOHYVjgy",
        "outputId": "fec12d70-2ef4-4ced-b33b-2dd33123e575",
        "colab": {
          "base_uri": "https://localhost:8080/"
        }
      },
      "execution_count": null,
      "outputs": [
        {
          "output_type": "execute_result",
          "data": {
            "text/plain": [
              "array([   6, -684])"
            ]
          },
          "metadata": {},
          "execution_count": 31
        }
      ]
    },
    {
      "cell_type": "code",
      "source": [
        "R = A/B\n",
        "R"
      ],
      "metadata": {
        "id": "TqctGC3cVrr6",
        "outputId": "f200da22-b7ea-4725-d528-ce594abf863e",
        "colab": {
          "base_uri": "https://localhost:8080/"
        }
      },
      "execution_count": null,
      "outputs": [
        {
          "output_type": "execute_result",
          "data": {
            "text/plain": [
              "array([ 6.        , -0.11842105])"
            ]
          },
          "metadata": {},
          "execution_count": 32
        }
      ]
    },
    {
      "cell_type": "markdown",
      "metadata": {
        "id": "3otcBr7tHs4w"
      },
      "source": [
        "### Scaling"
      ]
    },
    {
      "cell_type": "markdown",
      "metadata": {
        "id": "FVwvCklOHs4x"
      },
      "source": [
        "Scaling a geometric vector entails maintaining its direction while changing its size by a scale factor. It's similar to changing the size of a photograph; the elements expand or contract, but the orientations remain constant."
      ]
    },
    {
      "cell_type": "markdown",
      "metadata": {
        "id": "8el8_cMUHs4x"
      },
      "source": [
        "$$S = 5 \\cdot A$$"
      ]
    },
    {
      "cell_type": "markdown",
      "metadata": {
        "id": "Oh9sk6lKHs4y"
      },
      "source": [
        "We can do this in numpy through:"
      ]
    },
    {
      "cell_type": "code",
      "metadata": {
        "colab": {
          "base_uri": "https://localhost:8080/"
        },
        "id": "QNruUX1pHs4y",
        "outputId": "e97aa033-abf1-4d03-c09b-677fcb52f765"
      },
      "source": [
        "S = np.multiply(5,A)\n",
        "S"
      ],
      "execution_count": null,
      "outputs": [
        {
          "output_type": "execute_result",
          "data": {
            "text/plain": [
              "array([30, 45])"
            ]
          },
          "metadata": {},
          "execution_count": 34
        }
      ]
    },
    {
      "cell_type": "markdown",
      "metadata": {
        "id": "owN3j6rMWr-3"
      },
      "source": [
        "Try to implement scaling with two vectors."
      ]
    },
    {
      "cell_type": "code",
      "metadata": {
        "id": "EU0zkP_tWwWe",
        "outputId": "3e60d0c3-7b58-49d5-9699-b8d7daa4bdd9",
        "colab": {
          "base_uri": "https://localhost:8080/"
        }
      },
      "source": [
        "X = np.multiply(C,D)\n",
        "X"
      ],
      "execution_count": null,
      "outputs": [
        {
          "output_type": "execute_result",
          "data": {
            "text/plain": [
              "array([[  399],\n",
              "       [-1395],\n",
              "       [  -72]])"
            ]
          },
          "metadata": {},
          "execution_count": 37
        }
      ]
    },
    {
      "cell_type": "markdown",
      "metadata": {
        "id": "j04WSo4YHs4z"
      },
      "source": [
        "### MatPlotLib"
      ]
    },
    {
      "cell_type": "markdown",
      "metadata": {
        "id": "CP_9s8r-Hs4z"
      },
      "source": [
        "Matplotlib is a graphics plotting software for 2D visuals. Python uses it to create static, animated, and interactive visualizations."
      ]
    },
    {
      "cell_type": "markdown",
      "metadata": {
        "id": "ZM6_LZWWHs42"
      },
      "source": [
        "#### Visualizing Data"
      ]
    },
    {
      "cell_type": "markdown",
      "metadata": {
        "id": "ziwIKGPHHs43"
      },
      "source": [
        "It's not enough just solving these vectors so might need to visualize them. So we'll use MatPlotLib for that. We'll need to import it first."
      ]
    },
    {
      "cell_type": "code",
      "metadata": {
        "id": "B2U78WnhHs43"
      },
      "source": [
        "import matplotlib.pyplot as plt\n",
        "import matplotlib\n",
        "%matplotlib inline"
      ],
      "execution_count": null,
      "outputs": []
    },
    {
      "cell_type": "code",
      "metadata": {
        "colab": {
          "base_uri": "https://localhost:8080/",
          "height": 265
        },
        "id": "38rzjx3jXkK_",
        "outputId": "7c8e406e-f9f4-46c4-8dd2-b12482d31660"
      },
      "source": [
        "A = [3, -4]\n",
        "B = [1, -3]\n",
        "plt.scatter(A[0], A[1], label='A', c='orange')\n",
        "plt.scatter(B[0], B[1], label='B', c='yellow')\n",
        "plt.grid()\n",
        "plt.legend()\n",
        "plt.show()"
      ],
      "execution_count": null,
      "outputs": [
        {
          "output_type": "display_data",
          "data": {
            "text/plain": [
              "<Figure size 432x288 with 1 Axes>"
            ],
            "image/png": "[encoded data removed]"
          },
          "metadata": {
            "needs_background": "light"
          }
        }
      ]
    },
    {
      "cell_type": "code",
      "metadata": {
        "colab": {
          "base_uri": "https://localhost:8080/",
          "height": 365
        },
        "id": "KZgiMGCEZpJn",
        "outputId": "c58526c5-1240-4468-967b-99708e4525fb"
      },
      "source": [
        "A = np.array([3, -3])\n",
        "B = np.array([1, -3])\n",
        "Magnitude = np.sqrt(np.sum(R**2))\n",
        "print(Magnitude)\n",
        "\n",
        "plt.title(\"Resultant Vector\\nMagnitude:{}\" .format(Magnitude))\n",
        "plt.xlim(-10, 10)\n",
        "plt.ylim(-10, 10)\n",
        "plt.quiver(0, 0, A[0], A[1], angles='xy', scale_units='xy', scale=1, color='yellow')\n",
        "plt.quiver(A[0], A[1], B[0], B[1], angles='xy', scale_units='xy', scale=1, color='orange')\n",
        "R = A + B\n",
        "plt.quiver(0, 0, R[0], R[1], angles='xy', scale_units='xy', scale=1, color='green')\n",
        "plt.grid()\n",
        "plt.show()\n",
        "print(R)\n",
        "Slope = R[1]/R[0]\n",
        "print(Slope)\n",
        "Angle = (np.arctan(Slope))*(180/np.pi)\n",
        "print(Angle)"
      ],
      "execution_count": null,
      "outputs": [
        {
          "output_type": "stream",
          "name": "stdout",
          "text": [
            "8.06225774829855\n"
          ]
        },
        {
          "output_type": "display_data",
          "data": {
            "text/plain": [
              "<Figure size 432x288 with 1 Axes>"
            ],
            "image/png": "[encoded data removed]"
          },
          "metadata": {
            "needs_background": "light"
          }
        },
        {
          "output_type": "stream",
          "name": "stdout",
          "text": [
            "[ 4 -6]\n",
            "-1.5\n",
            "-56.309932474020215\n"
          ]
        }
      ]
    },
    {
      "cell_type": "code",
      "metadata": {
        "id": "0NZnAZckHs44",
        "outputId": "82e4f04d-a68b-465e-bdd1-658bbfcba526",
        "colab": {
          "base_uri": "https://localhost:8080/",
          "height": 269
        }
      },
      "source": [
        "n = A.shape[0]\n",
        "plt.xlim(-10, 10)\n",
        "plt.ylim(-10, 10)\n",
        "plt.quiver(0,0, A[0], A[1], angles='xy', scale_units='xy',scale=1)\n",
        "plt.quiver(A[0],A[1], B[0], B[1], angles='xy', scale_units='xy',scale=1)\n",
        "plt.quiver(0,0, R[0], R[1], angles='xy', scale_units='xy',scale=1)\n",
        "plt.show()"
      ],
      "execution_count": null,
      "outputs": [
        {
          "output_type": "display_data",
          "data": {
            "text/plain": [
              "<Figure size 432x288 with 1 Axes>"
            ],
            "image/png": "[encoded data removed]"
          },
          "metadata": {
            "needs_background": "light"
          }
        }
      ]
    },
    {
      "cell_type": "markdown",
      "metadata": {
        "id": "yWijJqoggcva"
      },
      "source": [
        "Try plotting Three Vectors and show the Resultant Vector as a result.\n",
        "Use Head to Tail Method."
      ]
    },
    {
      "cell_type": "code",
      "metadata": {
        "id": "XCCdqCYngwxx",
        "outputId": "b4cb1b1a-93d4-4568-8345-b0ffd1978dd5",
        "colab": {
          "base_uri": "https://localhost:8080/",
          "height": 351
        }
      },
      "source": [
        "A = np.array([6, -15])\n",
        "B = np.array([9, -15])\n",
        "C = np.array([30, -10])\n",
        "R = A + B + C\n",
        "Magnitude = np.sqrt(np.sum(R**2))\n",
        "\n",
        "plt.title(\"Resultant Vector\\nMagnitude:{}\" .format(Magnitude))\n",
        "plt.xlim(-50, 50)\n",
        "plt.ylim(-50, 50)\n",
        "plt.quiver(0, 0, A[0], A[1], angles='xy', scale_units='xy', scale=1, color='yellow')\n",
        "plt.quiver(A[0], A[1], B[0], B[1], angles='xy', scale_units='xy', scale=1, color='orange')\n",
        "plt.quiver(15, -30, C[0], C[1], angles='xy', scale_units='xy', scale=1, color='red')\n",
        "\n",
        "\n",
        "plt.quiver(0, 0, R[0], R[1], angles='xy', scale_units='xy', scale=1, color='green')\n",
        "plt.grid()\n",
        "plt.show()\n",
        "print(\"R Matrix:{}\" .format(R))\n",
        "Slope = R[1]/R[0]\n",
        "print(\"Slope:{}\" .format(Slope))\n",
        "Angle = (np.arctan(Slope))*(180/np.pi)\n",
        "print(\"Angle:{}\" .format(Angle))"
      ],
      "execution_count": null,
      "outputs": [
        {
          "output_type": "display_data",
          "data": {
            "text/plain": [
              "<Figure size 432x288 with 1 Axes>"
            ],
            "image/png": "[encoded data removed]"
          },
          "metadata": {
            "needs_background": "light"
          }
        },
        {
          "output_type": "stream",
          "name": "stdout",
          "text": [
            "R Matrix:[ 45 -40]\n",
            "Slope:-0.8888888888888888\n",
            "Angle:-41.6335393365702\n"
          ]
        }
      ]
    }
  ]
}