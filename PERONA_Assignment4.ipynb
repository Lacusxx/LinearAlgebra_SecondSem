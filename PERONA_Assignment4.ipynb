{
  "cells": [
    {
      "cell_type": "markdown",
      "metadata": {
        "id": "view-in-github",
        "colab_type": "text"
      },
      "source": [
        "<a href=\"https://colab.research.google.com/github/Lacusxx/LinearAlgebra_SecondSem/blob/main/PERONA_Assignment4.ipynb\" target=\"_parent\"><img src=\"https://colab.research.google.com/assets/colab-badge.svg\" alt=\"Open In Colab\"/></a>"
      ]
    },
    {
      "cell_type": "markdown",
      "metadata": {
        "id": "zf6f0bGbxmjl"
      },
      "source": [
        "#Linear Algebra for CHE\n",
        "##Laboratory 2 : Matrices\n",
        "\n",
        "###Objectives\n",
        "At the end of this activity you will be able to:\n",
        "1. Be familiar with matrices and their relation to linear equations.\n",
        "2. Perform basic matrix operations.\n",
        "3. Program and translate matrix equations and operations using Python.\n",
        "\n"
      ]
    },
    {
      "cell_type": "markdown",
      "metadata": {
        "id": "6k3sKGD3yGOo"
      },
      "source": [
        "#Discussion\n"
      ]
    },
    {
      "cell_type": "code",
      "execution_count": 3,
      "metadata": {
        "id": "CFAlA27jyM0M"
      },
      "outputs": [],
      "source": [
        "import numpy as np\n",
        "import matplotlib.pyplot as plt\n",
        "import scipy.linalg as la\n",
        "%matplotlib inline "
      ]
    },
    {
      "cell_type": "markdown",
      "metadata": {
        "id": "NYrzqqE4ygFa"
      },
      "source": [
        "###Matrices\n"
      ]
    },
    {
      "cell_type": "markdown",
      "metadata": {
        "id": "N5jCNIToykpp"
      },
      "source": [
        "The notation and use of matrices is probably one of the fundamentals of modern computing. Matrices are also handy representations of complex equations or multiple inter-related equations from 2-dimensional equations to even hundreds and thousands of them."
      ]
    },
    {
      "cell_type": "markdown",
      "metadata": {
        "id": "cAfUzqKxzpVN"
      },
      "source": [
        "Let's say for example you have $A$ and $B$ as system of equation."
      ]
    },
    {
      "cell_type": "markdown",
      "metadata": {
        "id": "ywEEw-Zcz9QI"
      },
      "source": [
        "$$\n",
        "A = \\left\\{\n",
        "    \\begin{array}\\\n",
        "        x + y \\\\ \n",
        "        4x - 10y\n",
        "    \\end{array}\n",
        "\\right. \\\\\n",
        "B = \\left\\{\n",
        "    \\begin{array}\\\n",
        "        x+y+z \\\\ \n",
        "        3x -2y -z \\\\\n",
        "        -x + 4y +2z\n",
        "    \\end{array}\n",
        "\\right. \\\\\n",
        "C = \\left\\{\n",
        "    \\begin{array}\\\n",
        "        4x+2y-3z \\\\ \n",
        "        31x -45y -18z \\\\\n",
        "        -45x + 1y +5z\n",
        "    \\end{array}\n",
        "\\right. $$\n"
      ]
    },
    {
      "cell_type": "markdown",
      "metadata": {
        "id": "fnKeKdrk1Nke"
      },
      "source": [
        ":$$\n",
        "A=\\begin{bmatrix} 1 & 1 & 1 \\\\ 3 & -2 & -1 \\\\ -1 & 4 & 2\\end{bmatrix} \\\\\n",
        "B=\\begin{bmatrix} 1 & 1 & 1 \\\\ 3 & -2 & -1 \\\\ -1 & 4 & 2\\end{bmatrix} \\\\\n",
        "C=\\begin{bmatrix} 4 & 2 & -3 \\\\ 31 &-45 & -18 \\\\ -45 & 1 & 5\\end{bmatrix} \\\\\n",
        "$$\n"
      ]
    },
    {
      "cell_type": "markdown",
      "metadata": {
        "id": "1d02M2nW3ewh"
      },
      "source": [
        "Just like our previous laboratory activity, we'll represent system of linear equations as a matrix. The entities or numbers in matrices are called the elements of a matrix. These elements are arranged and ordered in rows and columns which form the list/array-like structure of matrices.\n",
        "And just like arrays, these elements are indexed according to their position with respect to their rows and columns. This can be reprsented just like the equation below. Whereas $A$ is a matrix consisting of elements denoted by aixj.Denoted by i is the number of rows in the matrix while $j$ stands for the number of columns. Do note that the size of a matrix is $i$ x $j$."
      ]
    },
    {
      "cell_type": "markdown",
      "metadata": {
        "id": "_UnLxiM935XJ"
      },
      "source": [
        "$$\n",
        "A=\\begin{bmatrix}\n",
        "a_{(0,0)}&a_{(0,1)}&\\dots&a_{(0,j-1)}\\\\\n",
        "a_{(1,0)}&a_{(1,1)}&\\dots&a_{(1,j-1)}\\\\\n",
        "\\vdots&\\vdots&\\ddots&\\vdots&\\\\\n",
        "a_{(i-1,0)}&a_{(i-1,1)}&\\dots&a_{(i-1,j-1)}\n",
        "\\end{bmatrix}\n",
        "$$\n"
      ]
    },
    {
      "cell_type": "code",
      "execution_count": null,
      "metadata": {
        "id": "xFtpNcus386R"
      },
      "outputs": [],
      "source": [
        "## Since we'll keep on describing matrices. Let's make a function.\n",
        "def describe_mat(matrix):\n",
        "  print(f'matrix:\\n{matrix}\\nShape:\\t{matrix.shape}\\nRank:\\t{matrix.ndim}\\n')\n"
      ]
    },
    {
      "cell_type": "code",
      "execution_count": null,
      "metadata": {
        "id": "8P19zLg85OIi",
        "colab": {
          "base_uri": "https://localhost:8080/"
        },
        "outputId": "c7fc220f-ae74-42ee-b709-46aa04f715a8"
      },
      "outputs": [
        {
          "output_type": "stream",
          "name": "stdout",
          "text": [
            "matrix:\n",
            "[[1 2]\n",
            " [3 1]]\n",
            "Shape:\t(2, 2)\n",
            "Rank:\t2\n",
            "\n"
          ]
        }
      ],
      "source": [
        "## Deaclaring a 2 x 2 matrix\n",
        "A = np.array([\n",
        "    [1, 2],\n",
        "    [3, 1]\n",
        "])\n",
        "describe_mat(A)"
      ]
    },
    {
      "cell_type": "code",
      "execution_count": null,
      "metadata": {
        "id": "ymKIAk0s6Ntu",
        "colab": {
          "base_uri": "https://localhost:8080/"
        },
        "outputId": "a4fd2588-0eeb-469d-e166-601057b3815c"
      },
      "outputs": [
        {
          "output_type": "stream",
          "name": "stdout",
          "text": [
            "matrix:\n",
            "[[1 2 4]\n",
            " [3 1 5]]\n",
            "Shape:\t(2, 3)\n",
            "Rank:\t2\n",
            "\n"
          ]
        }
      ],
      "source": [
        "T = np.array([\n",
        "    [1, 2, 4],\n",
        "    [3, 1, 5]\n",
        "])\n",
        "describe_mat(T)"
      ]
    },
    {
      "cell_type": "code",
      "execution_count": null,
      "metadata": {
        "colab": {
          "base_uri": "https://localhost:8080/"
        },
        "id": "Cn2fS5AY7G6J",
        "outputId": "c3bc1dd7-7c37-4389-a010-ccb727965bb4"
      },
      "outputs": [
        {
          "output_type": "stream",
          "name": "stdout",
          "text": [
            "matrix:\n",
            "[ 6  7  8  9 10]\n",
            "Shape:\t(5,)\n",
            "Rank:\t1\n",
            "\n"
          ]
        }
      ],
      "source": [
        "H = np.array([6,7,8,9,10])\n",
        "\n",
        "\n",
        "\n",
        "describe_mat(H)"
      ]
    },
    {
      "cell_type": "code",
      "source": [
        "j = np.array([2,25,20,20])\n",
        "\n",
        "\n",
        "\n",
        "describe_mat(j)"
      ],
      "metadata": {
        "colab": {
          "base_uri": "https://localhost:8080/"
        },
        "id": "NZPGR0Vi_EN2",
        "outputId": "e4b0e93c-2c8e-4510-944a-5fc5c947bf19"
      },
      "execution_count": null,
      "outputs": [
        {
          "output_type": "stream",
          "name": "stdout",
          "text": [
            "matrix:\n",
            "[ 2 25 20 20]\n",
            "Shape:\t(4,)\n",
            "Rank:\t1\n",
            "\n"
          ]
        }
      ]
    },
    {
      "cell_type": "markdown",
      "metadata": {
        "id": "AtbAzLTz7SLU"
      },
      "source": [
        "#Categorizing Matrices\n"
      ]
    },
    {
      "cell_type": "markdown",
      "metadata": {
        "id": "DwO1LQOi7WEj"
      },
      "source": [
        "##According to Shape"
      ]
    },
    {
      "cell_type": "markdown",
      "metadata": {
        "id": "jkBhzZCw8x0I"
      },
      "source": [
        "###Row and Column Matrices\n"
      ]
    },
    {
      "cell_type": "markdown",
      "source": [
        "In mathematics, a row matrix is a form of matrix with a single row."
      ],
      "metadata": {
        "id": "jw43z_iNM4Rq"
      }
    },
    {
      "cell_type": "code",
      "execution_count": null,
      "metadata": {
        "id": "SIwVwHq37ZLn",
        "colab": {
          "base_uri": "https://localhost:8080/"
        },
        "outputId": "eae24134-dcfe-4f49-8d9f-048f85bba762"
      },
      "outputs": [
        {
          "output_type": "stream",
          "name": "stdout",
          "text": [
            "matrix:\n",
            "[0 9 0 4]\n",
            "Shape:\t(4,)\n",
            "Rank:\t1\n",
            "\n",
            "matrix:\n",
            "[[0 2 2 5]]\n",
            "Shape:\t(1, 4)\n",
            "Rank:\t2\n",
            "\n"
          ]
        }
      ],
      "source": [
        "row_mat_1D = np.array([\n",
        "    0, 9, 0, 4\n",
        "])\n",
        "\n",
        "row_mat_2D = np.array([\n",
        "    [0, 2, 2, 5]\n",
        "])\n",
        "describe_mat(row_mat_1D)\n",
        "describe_mat(row_mat_2D)"
      ]
    },
    {
      "cell_type": "markdown",
      "source": [
        "A single-column matrix is referred to as a column matrix. The column matrix's order is represented by m x 1, therefore each row will contain a single element arranged in such a way that it represents a column."
      ],
      "metadata": {
        "id": "MDUn0MKgNEP3"
      }
    },
    {
      "cell_type": "code",
      "execution_count": null,
      "metadata": {
        "id": "jjDHGN5V9a5G",
        "colab": {
          "base_uri": "https://localhost:8080/"
        },
        "outputId": "f01d8c93-c250-44d2-ca96-051c6b1eca7e"
      },
      "outputs": [
        {
          "output_type": "stream",
          "name": "stdout",
          "text": [
            "matrix:\n",
            "[[ 1]\n",
            " [ 3]\n",
            " [67]]\n",
            "Shape:\t(3, 1)\n",
            "Rank:\t2\n",
            "\n"
          ]
        }
      ],
      "source": [
        "column_mat = np.array([\n",
        "    [1],\n",
        "    [3],\n",
        "    [67]\n",
        "])\n",
        "describe_mat(column_mat)"
      ]
    },
    {
      "cell_type": "markdown",
      "metadata": {
        "id": "QcY1rOaO9_hE"
      },
      "source": [
        "###Square Matrices"
      ]
    },
    {
      "cell_type": "markdown",
      "source": [
        "A square matrix is a matrix with the same number of rows and columns on both sides. The square matrix of order m is known as the m m matrix in mathematics. "
      ],
      "metadata": {
        "id": "QqYPXHDINJek"
      }
    },
    {
      "cell_type": "code",
      "execution_count": null,
      "metadata": {
        "id": "8zmF8sfN-C5y"
      },
      "outputs": [],
      "source": [
        "def describe_mat(matrix):\n",
        "  is_square = True if matrix.shape[0]== matrix.shape[1] else False\n",
        "  print(f'matrix:\\n{matrix}\\n\\nShape:\\t{matrix.shape}\\nRank:\\t{matrix.ndim}\\nIs Square: {is_square}\\n')"
      ]
    },
    {
      "cell_type": "code",
      "execution_count": null,
      "metadata": {
        "id": "A9VsE9x2-xg4",
        "colab": {
          "base_uri": "https://localhost:8080/"
        },
        "outputId": "f63f8a4c-eea0-496a-f2d7-05c43fdcaacc"
      },
      "outputs": [
        {
          "output_type": "stream",
          "name": "stdout",
          "text": [
            "matrix:\n",
            "[[ 1  2  3]\n",
            " [ 3  6  9]\n",
            " [ 3  5 67]]\n",
            "\n",
            "Shape:\t(3, 3)\n",
            "Rank:\t2\n",
            "Is Square: True\n",
            "\n",
            "matrix:\n",
            "[[ 2 21]\n",
            " [ 4  5]\n",
            " [64 78]]\n",
            "\n",
            "Shape:\t(3, 2)\n",
            "Rank:\t2\n",
            "Is Square: False\n",
            "\n"
          ]
        }
      ],
      "source": [
        "squarematrix = np.array([\n",
        "  [1,2,3],\n",
        "  [3,6,9],\n",
        "  [3,5,67]\n",
        "])\n",
        "\n",
        "disqaure = np.array([\n",
        "  [2,21],\n",
        "  [4,5],\n",
        "  [64,78]\n",
        "])\n",
        "\n",
        "describe_mat(squarematrix)\n",
        "describe_mat(disqaure)"
      ]
    },
    {
      "cell_type": "markdown",
      "metadata": {
        "id": "w5vi4D8IBHN_"
      },
      "source": [
        "##According to Element Value\n"
      ]
    },
    {
      "cell_type": "markdown",
      "metadata": {
        "id": "eQDtblyKCAn_"
      },
      "source": [
        "###Null Matrix"
      ]
    },
    {
      "cell_type": "markdown",
      "source": [
        "A Null Matrix is a matrix with no elements. It is always a subspace of any vector or matrix."
      ],
      "metadata": {
        "id": "tJZWtrobNMx6"
      }
    },
    {
      "cell_type": "code",
      "execution_count": null,
      "metadata": {
        "id": "ZoENT0rNBMRP"
      },
      "outputs": [],
      "source": [
        "def describe_mat(matrix):\n",
        "  if matrix.size > 0:\n",
        "    is_square = True if matrix.shape[0]== matrix.shape[1] else False\n",
        "    print(f'matrix:\\n{matrix}\\n\\nShape:\\t{matrix.shape}\\nRank:\\t{matrix.ndim}\\nIs Square: {is_square}\\n')\n",
        "  else:\n",
        "    print('Matrix is Null')"
      ]
    },
    {
      "cell_type": "code",
      "execution_count": null,
      "metadata": {
        "id": "ZEp6FCTkBfbi",
        "colab": {
          "base_uri": "https://localhost:8080/"
        },
        "outputId": "626e613d-1571-472b-8a75-e25c44a75e1e"
      },
      "outputs": [
        {
          "output_type": "stream",
          "name": "stdout",
          "text": [
            "Matrix is Null\n"
          ]
        }
      ],
      "source": [
        "nullmatrix = np.array ([])\n",
        "describe_mat(nullmatrix)"
      ]
    },
    {
      "cell_type": "markdown",
      "metadata": {
        "id": "cvZBQCeJCC-P"
      },
      "source": [
        "###Zero Matrix"
      ]
    },
    {
      "cell_type": "markdown",
      "source": [
        "A zero matrix is a square matrix in which all of the elements are zero (0)."
      ],
      "metadata": {
        "id": "rRrDUUBBNQtk"
      }
    },
    {
      "cell_type": "code",
      "execution_count": null,
      "metadata": {
        "id": "2R3RkV1lCFdl",
        "colab": {
          "base_uri": "https://localhost:8080/"
        },
        "outputId": "ac1cd5ab-b8e7-4412-c973-4a08cc7b9af8"
      },
      "outputs": [
        {
          "output_type": "stream",
          "name": "stdout",
          "text": [
            "Zero Row Matrix: \n",
            "[[0. 0.]]\n",
            "Zero Square Matrix: \n",
            "[[0. 0. 0. 0.]\n",
            " [0. 0. 0. 0.]\n",
            " [0. 0. 0. 0.]\n",
            " [0. 0. 0. 0.]]\n",
            "Zero Rectangle Matrix: \n",
            "[[0. 0. 0.]\n",
            " [0. 0. 0.]\n",
            " [0. 0. 0.]\n",
            " [0. 0. 0.]\n",
            " [0. 0. 0.]]\n"
          ]
        }
      ],
      "source": [
        "zeroM_row = np.zeros ((1,2))\n",
        "zeroM_square = np.zeros ((4,4))\n",
        "zeroM_rectangle = np.zeros ((5,3))\n",
        "\n",
        "print(f'Zero Row Matrix: \\n{zeroM_row}')\n",
        "print(f'Zero Square Matrix: \\n{zeroM_square}')\n",
        "print(f'Zero Rectangle Matrix: \\n{zeroM_rectangle}')"
      ]
    },
    {
      "cell_type": "markdown",
      "metadata": {
        "id": "SO6KPiaAD0k_"
      },
      "source": [
        "###Ones Matrix"
      ]
    },
    {
      "cell_type": "markdown",
      "source": [
        "A matrix of ones, also known as an all-ones matrix, is a matrix in which each member is equal to one."
      ],
      "metadata": {
        "id": "5P7EYm6DYZMB"
      }
    },
    {
      "cell_type": "code",
      "execution_count": null,
      "metadata": {
        "id": "sGjgKEtbD2Bi",
        "colab": {
          "base_uri": "https://localhost:8080/"
        },
        "outputId": "f7bf0adb-0438-4f89-f064-f929a1cf0f46"
      },
      "outputs": [
        {
          "output_type": "stream",
          "name": "stdout",
          "text": [
            "Zero Row Matrix: \n",
            "[[1. 1.]]\n",
            "Zero Square Matrix: \n",
            "[[1. 1. 1. 1.]\n",
            " [1. 1. 1. 1.]\n",
            " [1. 1. 1. 1.]\n",
            " [1. 1. 1. 1.]]\n",
            "Zero Rectangle Matrix: \n",
            "[[1. 1. 1.]\n",
            " [1. 1. 1.]\n",
            " [1. 1. 1.]\n",
            " [1. 1. 1.]\n",
            " [1. 1. 1.]]\n"
          ]
        }
      ],
      "source": [
        "onesM_row = np.ones ((1,2))\n",
        "onesM_square = np.ones ((4,4))\n",
        "onesM_rectangle = np.ones ((5,3))\n",
        "\n",
        "print(f'Zero Row Matrix: \\n{onesM_row}')\n",
        "print(f'Zero Square Matrix: \\n{onesM_square}')\n",
        "print(f'Zero Rectangle Matrix: \\n{onesM_rectangle}')"
      ]
    },
    {
      "cell_type": "markdown",
      "metadata": {
        "id": "oCoXK4v1ErfM"
      },
      "source": [
        "###Diagonal Matrix"
      ]
    },
    {
      "cell_type": "markdown",
      "source": [
        "Typically, a diagonal matrix is a square matrix of rank n containing values on the main diagonal and zeros on the other diagonals."
      ],
      "metadata": {
        "id": "7eslx1sqYcDh"
      }
    },
    {
      "cell_type": "code",
      "execution_count": null,
      "metadata": {
        "id": "GwYakZBwEtjA",
        "colab": {
          "base_uri": "https://localhost:8080/"
        },
        "outputId": "5fd7d45d-b2ef-4e58-a221-06665df8ed6d"
      },
      "outputs": [
        {
          "output_type": "execute_result",
          "data": {
            "text/plain": [
              "array([[2, 0, 0],\n",
              "       [0, 4, 0],\n",
              "       [0, 0, 6]])"
            ]
          },
          "metadata": {},
          "execution_count": 15
        }
      ],
      "source": [
        "np.array([\n",
        "  [2,0,0],\n",
        "  [0,4,0],\n",
        "  [0,0,6]\n",
        "])"
      ]
    },
    {
      "cell_type": "code",
      "execution_count": null,
      "metadata": {
        "id": "ruXH2S-ZE9Cm",
        "colab": {
          "base_uri": "https://localhost:8080/"
        },
        "outputId": "68dc503b-f887-45cb-bed7-99d64e94cc89"
      },
      "outputs": [
        {
          "output_type": "execute_result",
          "data": {
            "text/plain": [
              "array([[ 2,  0,  0,  0,  0,  0,  0,  0,  0,  0,  0,  0,  0],\n",
              "       [ 0,  4,  0,  0,  0,  0,  0,  0,  0,  0,  0,  0,  0],\n",
              "       [ 0,  0,  6,  0,  0,  0,  0,  0,  0,  0,  0,  0,  0],\n",
              "       [ 0,  0,  0, 12,  0,  0,  0,  0,  0,  0,  0,  0,  0],\n",
              "       [ 0,  0,  0,  0, 14,  0,  0,  0,  0,  0,  0,  0,  0],\n",
              "       [ 0,  0,  0,  0,  0, 56,  0,  0,  0,  0,  0,  0,  0],\n",
              "       [ 0,  0,  0,  0,  0,  0, 78,  0,  0,  0,  0,  0,  0],\n",
              "       [ 0,  0,  0,  0,  0,  0,  0, 98,  0,  0,  0,  0,  0],\n",
              "       [ 0,  0,  0,  0,  0,  0,  0,  0,  4,  0,  0,  0,  0],\n",
              "       [ 0,  0,  0,  0,  0,  0,  0,  0,  0, 45,  0,  0,  0],\n",
              "       [ 0,  0,  0,  0,  0,  0,  0,  0,  0,  0, 76,  0,  0],\n",
              "       [ 0,  0,  0,  0,  0,  0,  0,  0,  0,  0,  0, 67,  0],\n",
              "       [ 0,  0,  0,  0,  0,  0,  0,  0,  0,  0,  0,  0, 69]])"
            ]
          },
          "metadata": {},
          "execution_count": 16
        }
      ],
      "source": [
        "D = np.diag([2,4,6,12,14,56,78,98,4,45,76,67,69])\n",
        "D.shape[0] == D.shape[1]\n",
        "D"
      ]
    },
    {
      "cell_type": "markdown",
      "metadata": {
        "id": "ZNZd2LKIF2L3"
      },
      "source": [
        "###Identity Matrix"
      ]
    },
    {
      "cell_type": "markdown",
      "source": [
        "The identity matrix of size n in linear algebra is the nxn square matrix with ones on the main diagonal and zeros everywhere else."
      ],
      "metadata": {
        "id": "6LCHHRgHYgGb"
      }
    },
    {
      "cell_type": "code",
      "execution_count": null,
      "metadata": {
        "id": "hVjWm2pJF6WR",
        "colab": {
          "base_uri": "https://localhost:8080/"
        },
        "outputId": "e6473186-6731-487c-f677-3dbea9ebb0b9"
      },
      "outputs": [
        {
          "output_type": "execute_result",
          "data": {
            "text/plain": [
              "array([[1., 0., 0., 0., 0., 0., 0., 0., 0.],\n",
              "       [0., 1., 0., 0., 0., 0., 0., 0., 0.],\n",
              "       [0., 0., 1., 0., 0., 0., 0., 0., 0.],\n",
              "       [0., 0., 0., 1., 0., 0., 0., 0., 0.],\n",
              "       [0., 0., 0., 0., 1., 0., 0., 0., 0.],\n",
              "       [0., 0., 0., 0., 0., 1., 0., 0., 0.],\n",
              "       [0., 0., 0., 0., 0., 0., 1., 0., 0.],\n",
              "       [0., 0., 0., 0., 0., 0., 0., 1., 0.],\n",
              "       [0., 0., 0., 0., 0., 0., 0., 0., 1.]])"
            ]
          },
          "metadata": {},
          "execution_count": 17
        }
      ],
      "source": [
        "np.eye(9)"
      ]
    },
    {
      "cell_type": "code",
      "execution_count": null,
      "metadata": {
        "id": "NEtiIVUcGASo",
        "colab": {
          "base_uri": "https://localhost:8080/"
        },
        "outputId": "7ad90ac1-86f6-4466-d4e7-56bce234911a"
      },
      "outputs": [
        {
          "output_type": "execute_result",
          "data": {
            "text/plain": [
              "array([[1., 0., 0., 0., 0., 0.],\n",
              "       [0., 1., 0., 0., 0., 0.],\n",
              "       [0., 0., 1., 0., 0., 0.],\n",
              "       [0., 0., 0., 1., 0., 0.],\n",
              "       [0., 0., 0., 0., 1., 0.],\n",
              "       [0., 0., 0., 0., 0., 1.]])"
            ]
          },
          "metadata": {},
          "execution_count": 18
        }
      ],
      "source": [
        "np.identity(6)"
      ]
    },
    {
      "cell_type": "markdown",
      "metadata": {
        "id": "2T03QSObGeAl"
      },
      "source": [
        "###Upper Triangular Matrix"
      ]
    },
    {
      "cell_type": "markdown",
      "source": [
        "If all of the entries below the main diagonal are zero, a square matrix is called upper triangular."
      ],
      "metadata": {
        "id": "3MMw43uTZcL6"
      }
    },
    {
      "cell_type": "code",
      "execution_count": null,
      "metadata": {
        "colab": {
          "base_uri": "https://localhost:8080/"
        },
        "id": "lRJxYtWLGgEp",
        "outputId": "f012b1dd-0646-44c1-ddca-409e99400f43"
      },
      "outputs": [
        {
          "output_type": "execute_result",
          "data": {
            "text/plain": [
              "array([[1, 5, 6, 7],\n",
              "       [0, 3, 5, 8],\n",
              "       [0, 0, 9, 7],\n",
              "       [0, 0, 0, 2]])"
            ]
          },
          "metadata": {},
          "execution_count": 19
        }
      ],
      "source": [
        "np.array([\n",
        "  [1,5,6,7],\n",
        "  [0,3,5,8],\n",
        "  [0,0,9,7],\n",
        "  [0,0,0,2]\n",
        "])"
      ]
    },
    {
      "cell_type": "markdown",
      "metadata": {
        "id": "dxDHJUj1G0b_"
      },
      "source": [
        "###Lower Triangular Matrix"
      ]
    },
    {
      "cell_type": "markdown",
      "source": [
        "Similarly, if all of the entries above the main diagonal are zero, a square matrix is called lower triangular."
      ],
      "metadata": {
        "id": "QrqJm36AZdCi"
      }
    },
    {
      "cell_type": "code",
      "execution_count": null,
      "metadata": {
        "id": "4P0agCfSG3MU",
        "colab": {
          "base_uri": "https://localhost:8080/"
        },
        "outputId": "91ef188a-aa63-4b4a-9ed2-39b7ca5e7e11"
      },
      "outputs": [
        {
          "output_type": "execute_result",
          "data": {
            "text/plain": [
              "array([[1, 0, 0, 0],\n",
              "       [8, 5, 0, 0],\n",
              "       [9, 6, 4, 0],\n",
              "       [2, 4, 6, 8]])"
            ]
          },
          "metadata": {},
          "execution_count": 32
        }
      ],
      "source": [
        "X = np.array([\n",
        "  [1,0,0,0],\n",
        "  [8,5,0,0],\n",
        "  [9,6,4,0],\n",
        "  [2,4,6,8]\n",
        "])\n",
        "X"
      ]
    },
    {
      "cell_type": "code",
      "execution_count": null,
      "metadata": {
        "id": "t1apiV5IJCLJ",
        "colab": {
          "base_uri": "https://localhost:8080/"
        },
        "outputId": "b8a45585-5aaf-4cd9-971f-f88ac446a1d1"
      },
      "outputs": [
        {
          "output_type": "execute_result",
          "data": {
            "text/plain": [
              "array([[1, 0, 0, 0],\n",
              "       [8, 5, 0, 0],\n",
              "       [9, 6, 4, 0],\n",
              "       [2, 4, 6, 8]])"
            ]
          },
          "metadata": {},
          "execution_count": 30
        }
      ],
      "source": [
        "H = np.tril(X)\n",
        "H"
      ]
    },
    {
      "cell_type": "markdown",
      "metadata": {
        "id": "QkR1CU2UJOGu"
      },
      "source": [
        "##Matrix Algebra"
      ]
    },
    {
      "cell_type": "markdown",
      "metadata": {
        "id": "7uTY5vU4Jfpk"
      },
      "source": [
        "ADDITION"
      ]
    },
    {
      "cell_type": "markdown",
      "source": [
        "To be added, two matrices must have the same amount of rows and columns. The sum of two matrices A and B, in this situation, will be a matrix with the same number of rows and columns as A and B. By adding the appropriate elements of A and B, the sum of A and B, denoted A + B, is obtained.\n"
      ],
      "metadata": {
        "id": "iutcRZvJYVPq"
      }
    },
    {
      "cell_type": "code",
      "execution_count": null,
      "metadata": {
        "id": "OLy2xqQeJRWW",
        "colab": {
          "base_uri": "https://localhost:8080/"
        },
        "outputId": "f6055abc-0d4d-43ef-f99a-852e2f74b97e"
      },
      "outputs": [
        {
          "output_type": "execute_result",
          "data": {
            "text/plain": [
              "array([[ 2, 14, 16],\n",
              "       [ 4,  4,  4],\n",
              "       [ 8, 12, 14]])"
            ]
          },
          "metadata": {},
          "execution_count": 28
        }
      ],
      "source": [
        "G = np.array([\n",
        "    [1,7,8],\n",
        "    [2,2,2],\n",
        "    [4,6,7]\n",
        "])\n",
        "\n",
        "R = np.array([\n",
        "    [1,7,8],\n",
        "    [2,2,2],\n",
        "    [4,6,7]\n",
        "])\n",
        "\n",
        "G+R"
      ]
    },
    {
      "cell_type": "code",
      "execution_count": null,
      "metadata": {
        "id": "yh4K5qSkJvOD",
        "colab": {
          "base_uri": "https://localhost:8080/"
        },
        "outputId": "75cb9c62-96a4-4a9f-f07c-7f41302567a0"
      },
      "outputs": [
        {
          "output_type": "execute_result",
          "data": {
            "text/plain": [
              "array([[ 3,  9, 10],\n",
              "       [ 4,  4,  4],\n",
              "       [ 6,  8,  9]])"
            ]
          },
          "metadata": {},
          "execution_count": 29
        }
      ],
      "source": [
        "2+G"
      ]
    },
    {
      "cell_type": "markdown",
      "metadata": {
        "id": "eLuyvwpHJ57w"
      },
      "source": [
        "SUBTRACTION"
      ]
    },
    {
      "cell_type": "markdown",
      "source": [
        "Matrix subtraction is very much like addition. Subtraction between two matrices is achievable if their order or dimensions are the same."
      ],
      "metadata": {
        "id": "a9KlaeviYNZh"
      }
    },
    {
      "cell_type": "code",
      "execution_count": null,
      "metadata": {
        "id": "vwW8GqKMJ8iP",
        "colab": {
          "base_uri": "https://localhost:8080/"
        },
        "outputId": "bf1554a5-25aa-4371-c901-1d16acc1a582"
      },
      "outputs": [
        {
          "output_type": "execute_result",
          "data": {
            "text/plain": [
              "array([[-4,  0,  0],\n",
              "       [ 0, -4,  0],\n",
              "       [ 2,  0, -1]])"
            ]
          },
          "metadata": {},
          "execution_count": 26
        }
      ],
      "source": [
        "G = np.array([\n",
        "    [1,7,8],\n",
        "    [2,2,2],\n",
        "    [4,6,7]\n",
        "])\n",
        "\n",
        "R = np.array([\n",
        "    [5,7,8],\n",
        "    [2,6,2],\n",
        "    [2,6,8]\n",
        "])\n",
        "\n",
        "G-R"
      ]
    },
    {
      "cell_type": "code",
      "execution_count": null,
      "metadata": {
        "id": "RcRxUNrIKGDj",
        "colab": {
          "base_uri": "https://localhost:8080/"
        },
        "outputId": "93474b19-85aa-49d9-a560-b5789b69e005"
      },
      "outputs": [
        {
          "output_type": "execute_result",
          "data": {
            "text/plain": [
              "array([[ 0, -2, -3],\n",
              "       [ 3, -1,  3],\n",
              "       [ 3, -1, -3]])"
            ]
          },
          "metadata": {},
          "execution_count": 27
        }
      ],
      "source": [
        "5-R"
      ]
    },
    {
      "cell_type": "markdown",
      "metadata": {
        "id": "S3OItwGZKIGr"
      },
      "source": [
        "ELEMENT-WISE MULTIPLICATION"
      ]
    },
    {
      "cell_type": "markdown",
      "source": [
        "Every element of the first matrix is multiplied by the corresponding element of the second matrix in element-wise matrix multiplication."
      ],
      "metadata": {
        "id": "BeCgKnPpS1PD"
      }
    },
    {
      "cell_type": "code",
      "execution_count": null,
      "metadata": {
        "id": "Uj1-bDnyKK87",
        "colab": {
          "base_uri": "https://localhost:8080/"
        },
        "outputId": "9afed37d-9a27-468c-ac69-17e7bc690495"
      },
      "outputs": [
        {
          "output_type": "execute_result",
          "data": {
            "text/plain": [
              "array([[ 5, 49, 64],\n",
              "       [ 4, 12,  4],\n",
              "       [ 8, 36, 56]])"
            ]
          },
          "metadata": {},
          "execution_count": 34
        }
      ],
      "source": [
        "G = np.array([\n",
        "    [1,7,8],\n",
        "    [2,2,2],\n",
        "    [4,6,7]\n",
        "])\n",
        "\n",
        "R = np.array([\n",
        "    [5,7,8],\n",
        "    [2,6,2],\n",
        "    [2,6,8]\n",
        "])\n",
        "\n",
        "G*R"
      ]
    },
    {
      "cell_type": "code",
      "execution_count": null,
      "metadata": {
        "id": "eo35HN9GKTVy",
        "colab": {
          "base_uri": "https://localhost:8080/"
        },
        "outputId": "430072a7-2ba8-456c-db43-29eace766989"
      },
      "outputs": [
        {
          "output_type": "execute_result",
          "data": {
            "text/plain": [
              "array([[ 19, 133, 152],\n",
              "       [ 38,  38,  38],\n",
              "       [ 76, 114, 133]])"
            ]
          },
          "metadata": {},
          "execution_count": 33
        }
      ],
      "source": [
        "19*R"
      ]
    },
    {
      "cell_type": "markdown",
      "metadata": {
        "id": "ho3TSRNoKdvq"
      },
      "source": [
        "ACTUAL MULTIPLICATION"
      ]
    },
    {
      "cell_type": "markdown",
      "source": [
        "When multiplying two matrices, the first matrix's column count must equal the second matrix's row count. The result will have the same number of rows as the first matrix and the same number of columns as the second matrix.   \n"
      ],
      "metadata": {
        "id": "_nKM-_PtSw51"
      }
    },
    {
      "cell_type": "code",
      "execution_count": null,
      "metadata": {
        "id": "q28aYOwtKjLz",
        "colab": {
          "base_uri": "https://localhost:8080/"
        },
        "outputId": "ac69696e-bc1d-44a3-baac-30ffad517d80"
      },
      "outputs": [
        {
          "output_type": "execute_result",
          "data": {
            "text/plain": [
              "array([[ 35,  97,  86],\n",
              "       [ 18,  38,  36],\n",
              "       [ 46, 106, 100]])"
            ]
          },
          "metadata": {},
          "execution_count": 35
        }
      ],
      "source": [
        "G = np.array([\n",
        "    [1,7,8],\n",
        "    [2,2,2],\n",
        "    [4,6,7]\n",
        "])\n",
        "\n",
        "R = np.array([\n",
        "    [5,7,8],\n",
        "    [2,6,2],\n",
        "    [2,6,8]\n",
        "])\n",
        "\n",
        "G@R"
      ]
    },
    {
      "cell_type": "markdown",
      "source": [
        "## PRACTICE"
      ],
      "metadata": {
        "id": "AEzgm1WJ97vL"
      }
    },
    {
      "cell_type": "markdown",
      "source": [
        "1. Given the linear combination below, try to create a corresponding matrix representing it."
      ],
      "metadata": {
        "id": "k3ge-afs99mP"
      }
    },
    {
      "cell_type": "markdown",
      "source": [
        ":$$\\theta = 5x + 3y - z$$"
      ],
      "metadata": {
        "id": "SFfK2wkn-BTh"
      }
    },
    {
      "cell_type": "markdown",
      "source": [
        "$$\n",
        "\\theta=\\begin{bmatrix} 5 & 3 & -1 \\end{bmatrix} \\\\\n",
        "$$"
      ],
      "metadata": {
        "id": "PafnKz5FCCSV"
      }
    },
    {
      "cell_type": "markdown",
      "source": [
        "2. Given the system of linear combinations below, try to encode it as a matrix. Also describe the matrix."
      ],
      "metadata": {
        "id": "Gg3FcHt9-FX8"
      }
    },
    {
      "cell_type": "markdown",
      "source": [
        "$$\n",
        "A = \\left\\{\\begin{array}\n",
        "5x_1 + 2x_2 +x_3\\\\\n",
        "4x_2 - x_3\\\\\n",
        "10x_3\n",
        "\\end{array}\\right.\n",
        "$$"
      ],
      "metadata": {
        "id": "I_Ylb1dl-Hzs"
      }
    },
    {
      "cell_type": "code",
      "source": [
        "def describe_mat(matrix):\n",
        "  is_square = True if matrix.shape[0]== matrix.shape[1] else False\n",
        "  print(f'matrix:\\n{matrix}\\nShape:\\t{matrix.shape}\\nRank:\\t{matrix.ndim}\\nIs Square: {is_square}\\n')"
      ],
      "metadata": {
        "id": "3vLbRwNwEQli"
      },
      "execution_count": null,
      "outputs": []
    },
    {
      "cell_type": "code",
      "source": [
        "A = np.array([\n",
        "    [1,2,1],\n",
        "    [0,4,-1],\n",
        "    [0,0,10]\n",
        "])\n",
        "describe_mat(A)"
      ],
      "metadata": {
        "colab": {
          "base_uri": "https://localhost:8080/"
        },
        "id": "WfiCMP-4EC8o",
        "outputId": "ea74b7cb-e4ec-4198-b8d6-f86807d7acb5"
      },
      "execution_count": null,
      "outputs": [
        {
          "output_type": "stream",
          "name": "stdout",
          "text": [
            "matrix:\n",
            "[[ 1  2  1]\n",
            " [ 0  4 -1]\n",
            " [ 0  0 10]]\n",
            "Shape:\t(3, 3)\n",
            "Rank:\t2\n",
            "Is Square: True\n",
            "\n"
          ]
        }
      ]
    },
    {
      "cell_type": "markdown",
      "source": [
        "3. Given the matrix below, express it as a linear combination in a markdown and a LaTeX markdown"
      ],
      "metadata": {
        "id": "SThaZQBS-KjG"
      }
    },
    {
      "cell_type": "code",
      "source": [
        "G = np.array([\n",
        "    [1,7,8],\n",
        "    [2,2,2],\n",
        "    [4,6,7]\n",
        "])"
      ],
      "metadata": {
        "id": "qaNLH27w-cKV"
      },
      "execution_count": null,
      "outputs": []
    },
    {
      "cell_type": "markdown",
      "source": [
        "$$\n",
        "G = \\left\\{\n",
        "    \\begin{array}\\\n",
        "        a + 7b + 8c \\\\ \n",
        "        2a + 2b + 2c \\\\\n",
        "        4a + 6b + 7c\n",
        "    \\end{array}\n",
        "\\right. $$\n"
      ],
      "metadata": {
        "id": "BLtoAz0nIbXD"
      }
    },
    {
      "cell_type": "markdown",
      "source": [
        "$$\n",
        "G=\\begin{bmatrix} 1 & 7 & 8 \\\\ 2 & 2 & 2 \\\\ 4 & 6 & 7 \\end{bmatrix} \\\\\n",
        "$$"
      ],
      "metadata": {
        "id": "dE8UG7RyJmed"
      }
    },
    {
      "cell_type": "markdown",
      "source": [
        "4. Given the matrix below, display the output as a LaTeX markdown also express it as a system of linear combinations."
      ],
      "metadata": {
        "id": "d8owV4rM-Zkv"
      }
    },
    {
      "cell_type": "code",
      "source": [
        "H = np.tril(G)\n",
        "H"
      ],
      "metadata": {
        "id": "gAe-OKs6-qbD"
      },
      "execution_count": null,
      "outputs": []
    },
    {
      "cell_type": "markdown",
      "source": [
        "$$\n",
        "H =\\begin{bmatrix} 1 & 0 & 0 \\\\ 2 & 2 & 0 \\\\ 4 & 6 & 7 \\end{bmatrix} \\\\\n",
        "$$"
      ],
      "metadata": {
        "id": "iVXQri5bKK4K"
      }
    },
    {
      "cell_type": "markdown",
      "source": [
        "$$\n",
        "H = \\left\\{\n",
        "    \\begin{array}\\\n",
        "        a \\\\ \n",
        "        2a + 2b \\\\\n",
        "        4a + 6b + 7c\n",
        "    \\end{array}\n",
        "\\right. $$"
      ],
      "metadata": {
        "id": "0oEHPuC5KV4b"
      }
    },
    {
      "cell_type": "markdown",
      "metadata": {
        "id": "8xxbO3rYKufV"
      },
      "source": [
        "##TASK 1\n"
      ]
    },
    {
      "cell_type": "markdown",
      "source": [
        "Create a function named mat_desc() that throughly describes a matrix, it should:\n",
        "\n",
        "  1. Displays the shape, size, and rank of the matrix.\n",
        "  2. Displays whether the matrix is square or non-square.\n",
        "  3. Displays whether the matrix is an empty matrix.\n",
        "  4. Displays if the matrix is an identity, ones, or zeros matrix\n",
        "  \n",
        "Use 3 sample matrices in which their shapes are not lower than  (3,3) . In your methodology, create a flowchart discuss the functions and methods you have done. Present your results in the results section showing the description of each matrix you have declared."
      ],
      "metadata": {
        "id": "PGPW1-MG8Pr7"
      }
    },
    {
      "cell_type": "code",
      "source": [
        "def mat_desc(mat):\n",
        "   sq = False\n",
        "   mat = np.array(mat)\n",
        "   print(mat)\n",
        "   print('Shape:', mat.shape)\n",
        "   print('Size:', mat.size)\n",
        "   print('Rank:', np.linalg.matrix_rank(mat))\n",
        "   if(mat.shape[0] == mat.shape[1]):\n",
        "       sq = True\n",
        "       print('The matrix is square')\n",
        "   else:\n",
        "       print('The matrix is non-square')\n",
        "   if(mat.shape[0] == 0 and mat.shape[1] == 0):\n",
        "       print('The matrix is empty')\n",
        "   else:\n",
        "       print('The matrix is not empty')\n",
        "   iden = np.identity(mat.shape[0])\n",
        "   if(sq and (iden == mat).all()):\n",
        "       print('The matrix is an identity matrix')\n",
        "   else:\n",
        "       print('The matrix is not an identity matrix')\n",
        "   one = np.ones((mat.shape[0], mat.shape[1]))\n",
        "   if((one == mat).all()):\n",
        "       print('The matrix is a ones matrix')\n",
        "   else:\n",
        "       print('The matrix is not a ones matrix')\n",
        "   zero = np.zeros((mat.shape[0], mat.shape[1]))\n",
        "   if((zero == mat).all()):\n",
        "       print('The matrix is a zeros matrix')\n",
        "   else:\n",
        "       print('The matrix is not a zeros matrix')\n",
        "\n"
      ],
      "metadata": {
        "id": "gSmUx7fFKyuj"
      },
      "execution_count": 4,
      "outputs": []
    },
    {
      "cell_type": "code",
      "source": [
        "G = np.array([\n",
        "    [1,7,8],\n",
        "    [2,2,2],\n",
        "    [4,6,7]\n",
        "])\n",
        "\n",
        "mat_desc(G)"
      ],
      "metadata": {
        "id": "XN835oiWL3ed",
        "colab": {
          "base_uri": "https://localhost:8080/"
        },
        "outputId": "0605b50a-0c2f-4b9a-b739-aaa8209ce7b5"
      },
      "execution_count": 5,
      "outputs": [
        {
          "output_type": "stream",
          "name": "stdout",
          "text": [
            "[[1 7 8]\n",
            " [2 2 2]\n",
            " [4 6 7]]\n",
            "Shape: (3, 3)\n",
            "Size: 9\n",
            "Rank: 3\n",
            "The matrix is square\n",
            "The matrix is not empty\n",
            "The matrix is not an identity matrix\n",
            "The matrix is not a ones matrix\n",
            "The matrix is not a zeros matrix\n"
          ]
        }
      ]
    },
    {
      "cell_type": "code",
      "source": [
        "A = np.array([\n",
        "    [0,0,0,0],\n",
        "    [0,0,0,0],\n",
        "    [0,0,0,0],\n",
        "    [0,0,0,0]\n",
        "])\n",
        "\n",
        "mat_desc(A)"
      ],
      "metadata": {
        "id": "EhInGKQN5l2m",
        "colab": {
          "base_uri": "https://localhost:8080/"
        },
        "outputId": "77bc0090-2d0c-46cf-d293-d250a448e0ff"
      },
      "execution_count": 6,
      "outputs": [
        {
          "output_type": "stream",
          "name": "stdout",
          "text": [
            "[[0 0 0 0]\n",
            " [0 0 0 0]\n",
            " [0 0 0 0]\n",
            " [0 0 0 0]]\n",
            "Shape: (4, 4)\n",
            "Size: 16\n",
            "Rank: 0\n",
            "The matrix is square\n",
            "The matrix is not empty\n",
            "The matrix is not an identity matrix\n",
            "The matrix is not a ones matrix\n",
            "The matrix is a zeros matrix\n"
          ]
        }
      ]
    },
    {
      "cell_type": "code",
      "source": [
        "F = np.array([\n",
        "    [1,1,1,1,1,1,1],\n",
        "    [1,1,1,1,1,1,1],\n",
        "    [1,1,1,1,1,1,1],\n",
        "    [1,1,1,1,1,1,1],\n",
        "    [1,1,1,1,1,1,1],\n",
        "    [1,1,1,1,1,1,1],\n",
        "    [1,1,1,1,1,1,1],\n",
        "    [1,1,1,1,1,1,1],\n",
        "    [1,1,1,1,1,1,1],\n",
        "    [1,1,1,1,1,1,1],\n",
        "    [1,1,1,1,1,1,1],\n",
        "    [1,1,1,1,1,1,1]\n",
        "    \n",
        "])\n",
        "\n",
        "mat_desc(F)"
      ],
      "metadata": {
        "id": "nbZ7vJME55H6",
        "colab": {
          "base_uri": "https://localhost:8080/"
        },
        "outputId": "2d53492d-8102-44cf-b577-426da4003a48"
      },
      "execution_count": 7,
      "outputs": [
        {
          "output_type": "stream",
          "name": "stdout",
          "text": [
            "[[1 1 1 1 1 1 1]\n",
            " [1 1 1 1 1 1 1]\n",
            " [1 1 1 1 1 1 1]\n",
            " [1 1 1 1 1 1 1]\n",
            " [1 1 1 1 1 1 1]\n",
            " [1 1 1 1 1 1 1]\n",
            " [1 1 1 1 1 1 1]\n",
            " [1 1 1 1 1 1 1]\n",
            " [1 1 1 1 1 1 1]\n",
            " [1 1 1 1 1 1 1]\n",
            " [1 1 1 1 1 1 1]\n",
            " [1 1 1 1 1 1 1]]\n",
            "Shape: (12, 7)\n",
            "Size: 84\n",
            "Rank: 1\n",
            "The matrix is non-square\n",
            "The matrix is not empty\n",
            "The matrix is not an identity matrix\n",
            "The matrix is a ones matrix\n",
            "The matrix is not a zeros matrix\n"
          ]
        }
      ]
    },
    {
      "cell_type": "markdown",
      "source": [
        "## TASK 2"
      ],
      "metadata": {
        "id": "l4vcRLyE81QB"
      }
    },
    {
      "cell_type": "markdown",
      "source": [
        "Create a function named mat_operations() that takes in two matrices a input parameters it should:\n",
        "\n",
        "Determines if the matrices are viable for operation and returns your own error message if they are not viable.\n",
        "  1. Returns the sum of the matrices.\n",
        "  2. Returns the differen of the matrices.\n",
        "  3. Returns the element-wise multiplication of the matrices.\n",
        "  4. Returns the element-wise division of the matrices.\n",
        "  \n",
        "Use 3 sample matrices in which their shapes are not lower than  (3,3) . In your methodology, create a flowchart discuss the functions and methods you have done. Present your results in the results section showing the description of each matrix you have declared."
      ],
      "metadata": {
        "id": "1GL_Pv_78bko"
      }
    },
    {
      "cell_type": "code",
      "source": [
        "def mat_operations(mat1, mat2):\n",
        "    mat1 = np.array(mat1)\n",
        "    mat2 = np.array(mat2)\n",
        "    print('Matrix 1:\\n', mat1)\n",
        "    print('Matrix 2:\\n', mat2)\n",
        "    if(mat1.shape != mat2.shape):\n",
        "        print('I apoligize. I could not perform operations. The shape of your given matrices are not for this code.')\n",
        "        return\n",
        "    print('Sum of the given matrices:')\n",
        "    msum = mat1 + mat2\n",
        "    print(msum)\n",
        "    print('Difference of the given matrices:')\n",
        "    mdiff = mat1 - mat2\n",
        "    print(mdiff)\n",
        "    print('Element-wise multiplication of the given matrices:')\n",
        "    mmul = mat1*mat2\n",
        "    print(mmul)\n",
        "    print('Element-wise division of the given matrices:')\n",
        "    mmul = mat1/mat2\n",
        "    print(mmul)"
      ],
      "metadata": {
        "id": "gleq9JSAO2RE"
      },
      "execution_count": 8,
      "outputs": []
    },
    {
      "cell_type": "code",
      "source": [
        "mat1 = np.array([\n",
        "    [1,7,8],\n",
        "    [2,2,2],\n",
        "    [4,6,7]\n",
        "])\n",
        "\n",
        "mat2 = np.array([\n",
        "    [1,7,8],\n",
        "    [2,2,2],\n",
        "    [4,6,7]\n",
        "])\n",
        "\n",
        "mat_operations(mat1, mat2)"
      ],
      "metadata": {
        "id": "T0Z6pTzBcpjO",
        "colab": {
          "base_uri": "https://localhost:8080/"
        },
        "outputId": "e0ccc003-9fcf-4801-d2ce-78d23871843a"
      },
      "execution_count": 9,
      "outputs": [
        {
          "output_type": "stream",
          "name": "stdout",
          "text": [
            "Matrix 1:\n",
            " [[1 7 8]\n",
            " [2 2 2]\n",
            " [4 6 7]]\n",
            "Matrix 2:\n",
            " [[1 7 8]\n",
            " [2 2 2]\n",
            " [4 6 7]]\n",
            "Sum of the given matrices:\n",
            "[[ 2 14 16]\n",
            " [ 4  4  4]\n",
            " [ 8 12 14]]\n",
            "Difference of the given matrices:\n",
            "[[0 0 0]\n",
            " [0 0 0]\n",
            " [0 0 0]]\n",
            "Element-wise multiplication of the given matrices:\n",
            "[[ 1 49 64]\n",
            " [ 4  4  4]\n",
            " [16 36 49]]\n",
            "Element-wise division of the given matrices:\n",
            "[[1. 1. 1.]\n",
            " [1. 1. 1.]\n",
            " [1. 1. 1.]]\n"
          ]
        }
      ]
    },
    {
      "cell_type": "code",
      "source": [
        "mat1 = np.array([\n",
        "    [4,5,76],\n",
        "    [34,654,76]\n",
        "])\n",
        "\n",
        "mat2 = np.array([\n",
        "    [6,8,6],\n",
        "    [82,6,12],\n",
        "    [3,78,32]\n",
        "])\n",
        "\n",
        "mat_operations(mat1, mat2)"
      ],
      "metadata": {
        "colab": {
          "base_uri": "https://localhost:8080/"
        },
        "id": "iXRdmG63UtaQ",
        "outputId": "5157b882-4ce5-482e-d4ba-bd6c4b47bab4"
      },
      "execution_count": 11,
      "outputs": [
        {
          "output_type": "stream",
          "name": "stdout",
          "text": [
            "Matrix 1:\n",
            " [[  4   5  76]\n",
            " [ 34 654  76]]\n",
            "Matrix 2:\n",
            " [[ 6  8  6]\n",
            " [82  6 12]\n",
            " [ 3 78 32]]\n",
            "I apoligize. I could not perform operations. The shape of your given matrices are not for this code.\n"
          ]
        }
      ]
    },
    {
      "cell_type": "code",
      "source": [
        "mat1 = np.array([\n",
        "  [1,0,0,0],\n",
        "  [8,5,0,0],\n",
        "  [9,6,4,0],\n",
        "  [2,4,6,8]\n",
        "])\n",
        "\n",
        "mat2 = np.array([\n",
        "  [1,5,6,7],\n",
        "  [0,3,5,8],\n",
        "  [0,0,9,7],\n",
        "  [0,0,0,2]\n",
        "])\n",
        "\n",
        "mat_operations(mat1, mat2)"
      ],
      "metadata": {
        "colab": {
          "base_uri": "https://localhost:8080/"
        },
        "id": "Vnl0D_fFVCvx",
        "outputId": "c4c178da-4dbf-40ac-af71-97eca307171d"
      },
      "execution_count": 12,
      "outputs": [
        {
          "output_type": "stream",
          "name": "stdout",
          "text": [
            "Matrix 1:\n",
            " [[1 0 0 0]\n",
            " [8 5 0 0]\n",
            " [9 6 4 0]\n",
            " [2 4 6 8]]\n",
            "Matrix 2:\n",
            " [[1 5 6 7]\n",
            " [0 3 5 8]\n",
            " [0 0 9 7]\n",
            " [0 0 0 2]]\n",
            "Sum of the given matrices:\n",
            "[[ 2  5  6  7]\n",
            " [ 8  8  5  8]\n",
            " [ 9  6 13  7]\n",
            " [ 2  4  6 10]]\n",
            "Difference of the given matrices:\n",
            "[[ 0 -5 -6 -7]\n",
            " [ 8  2 -5 -8]\n",
            " [ 9  6 -5 -7]\n",
            " [ 2  4  6  6]]\n",
            "Element-wise multiplication of the given matrices:\n",
            "[[ 1  0  0  0]\n",
            " [ 0 15  0  0]\n",
            " [ 0  0 36  0]\n",
            " [ 0  0  0 16]]\n",
            "Element-wise division of the given matrices:\n",
            "[[1.         0.         0.         0.        ]\n",
            " [       inf 1.66666667 0.         0.        ]\n",
            " [       inf        inf 0.44444444 0.        ]\n",
            " [       inf        inf        inf 4.        ]]\n"
          ]
        },
        {
          "output_type": "stream",
          "name": "stderr",
          "text": [
            "/usr/local/lib/python3.7/dist-packages/ipykernel_launcher.py:19: RuntimeWarning: divide by zero encountered in true_divide\n"
          ]
        }
      ]
    },
    {
      "cell_type": "markdown",
      "source": [
        "## Conclusion\n"
      ],
      "metadata": {
        "id": "I7Cec8hmwOal"
      }
    },
    {
      "cell_type": "markdown",
      "source": [
        "By utilizing the discussed functions and principles, matrices were given of high importance in this activity. Python is such a well and widely used programming language. It is in high demand all around the world. It can be used in a range of domains, including as machine learning, large data, programming, and app development. By performing this assignment, the students were allowed to practice and understand the ideas, vocabulary, and methodologies of Python. It demands a basic grasp of matrices and their connection to linear calculations, as well as the ability to conduct basic matrix operations and system matrix formulae and processes. Learning the fundamentals unquestionably contributed to the development of one of the many useful and novel traits. It will benefit people in being more logical in their thinking. As an outcome of this course, students will indeed be able to comprehend complicated ideas more simply and solve issues more efficiently. Just like the intricate but effective ways around Python.\n",
        "\n"
      ],
      "metadata": {
        "id": "Rmuy67sxwRyT"
      }
    }
  ],
  "metadata": {
    "colab": {
      "collapsed_sections": [],
      "name": "JURIENE",
      "provenance": [],
      "authorship_tag": "ABX9TyPxOtwa/Hf9q0auO0085sO1",
      "include_colab_link": true
    },
    "kernelspec": {
      "display_name": "Python 3",
      "name": "python3"
    },
    "language_info": {
      "name": "python"
    }
  },
  "nbformat": 4,
  "nbformat_minor": 0
}